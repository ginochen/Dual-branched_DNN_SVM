{
 "cells": [
  {
   "cell_type": "markdown",
   "metadata": {},
   "source": [
    "# Car Reservation Prediction\n",
    "\n",
    "# Overview\n",
    "Our goal is to predict the number of reservations of vehicles.\n",
    "\n",
    "# Background\n",
    "My math notebooks ([support vector machine](https://github.com/ginochen/ML_notes/blob/master/support_vector_machine.ipynb), [logistic regression](https://github.com/ginochen/ML_notes/blob/master/logistic_regression_cross_entropy.ipynb), [stochastic gradient descent](https://github.com/ginochen/ML_notes/blob/master/stochastic_gradient_descent.ipynb)) for the ML tools used in this project serve as reminders of what's really happening algorithmically in the python packages.\n",
    "\n",
    "# Data \n",
    "Due to confidentiality issues of the data, let's import, clean and PCA transform the feature space. The PCA also serve as a normalizer which makes training converge faster for SVM."
   ]
  },
  {
   "cell_type": "code",
   "execution_count": 1,
   "metadata": {},
   "outputs": [
    {
     "name": "stderr",
     "output_type": "stream",
     "text": [
      "Using TensorFlow backend.\n"
     ]
    }
   ],
   "source": [
    "# as before load all lib here\n",
    "import pandas as pd\n",
    "import numpy as np\n",
    "import math\n",
    "from sklearn.metrics.pairwise import cosine_similarity\n",
    "from sklearn.decomposition import PCA\n",
    "from sklearn.linear_model import LogisticRegression # logistic regression function p(x) = 1/(1+e^{b^T*x}), logit(p) = b^T*x\n",
    "from sklearn.metrics import precision_recall_fscore_support\n",
    "from sklearn.metrics import classification_report\n",
    "from sklearn.svm import SVC\n",
    "from sklearn.model_selection import StratifiedShuffleSplit\n",
    "from sklearn.model_selection import GridSearchCV\n",
    "from sklearn import preprocessing\n",
    "\n",
    "import tensorflow as tf\n",
    "import keras\n",
    "from keras.models import Sequential\n",
    "from keras.layers import Input, Dense, Dropout, LSTM, TimeDistributed,Activation\n",
    "from keras.callbacks import EarlyStopping, ModelCheckpoint\n",
    "\n",
    "from mpl_toolkits.mplot3d import Axes3D\n",
    "import matplotlib.pyplot as plt\n"
   ]
  },
  {
   "cell_type": "code",
   "execution_count": 2,
   "metadata": {},
   "outputs": [],
   "source": [
    "df_vehicles = pd.read_csv('./vehicles.csv')\n",
    "df_reservations = pd.read_csv('./reservations.csv')"
   ]
  },
  {
   "cell_type": "code",
   "execution_count": 3,
   "metadata": {},
   "outputs": [],
   "source": [
    "#print('VEHICLES\\n =============================================== \\n',df_vehicles.head(4))\n",
    "#print('\\nRESERVATIONS\\n ========================================== \\n',df_reservations.head(4))"
   ]
  },
  {
   "cell_type": "code",
   "execution_count": 4,
   "metadata": {},
   "outputs": [],
   "source": [
    "df = pd.merge(df_reservations,df_vehicles, how='inner', on='vehicle_id') # join on intersection on vehicle_id"
   ]
  },
  {
   "cell_type": "code",
   "execution_count": 5,
   "metadata": {},
   "outputs": [
    {
     "name": "stdout",
     "output_type": "stream",
     "text": [
      "   reservation_type  is_delivery  actual_price  recommended_price  num_images  \\\n",
      "0               2.0            0           121                 48           9   \n",
      "1               2.0            0           121                 48           9   \n",
      "2               2.0            1            61                 66          12   \n",
      "3               2.0            1            61                 66          12   \n",
      "4               1.0            1            61                 66          12   \n",
      "\n",
      "   description_length  is_recent_model  \n",
      "0                   0                0  \n",
      "1                   0                0  \n",
      "2                   0                0  \n",
      "3                   0                0  \n",
      "4                   0                0  \n"
     ]
    }
   ],
   "source": [
    "print(df.iloc[0:5,2:])"
   ]
  },
  {
   "cell_type": "code",
   "execution_count": 6,
   "metadata": {},
   "outputs": [
    {
     "name": "stdout",
     "output_type": "stream",
     "text": [
      "(samples, features) = (195243, 9)\n",
      "max description length = 7780\n"
     ]
    }
   ],
   "source": [
    "print('(samples, features) = %s'%str(df.shape))\n",
    "print('max description length = %s'%str(df.description_length.max()))"
   ]
  },
  {
   "cell_type": "markdown",
   "metadata": {},
   "source": [
    "Let's checkout the feature space characteristics! We removed the \"is_delivery\" feature, since that's what we want to predict. Instead of using all 6 dim, which is hard to visualize, let's just look at the top 3 principle axes feature space:"
   ]
  },
  {
   "cell_type": "code",
   "execution_count": 7,
   "metadata": {},
   "outputs": [],
   "source": [
    "nrows = df.shape[0]\n",
    "df = df.dropna(axis=0) # drop NaNs\n",
    "#x = df.iloc[:, [2,4,5,8]].values\n",
    "x = df.iloc[0:nrows, [2,*range(4,9)]].values # skip is_delivery since it's the tag\n",
    "y = df.iloc[0:nrows,3].values # is_delivery is the tag to color mark on projected features\n"
   ]
  },
  {
   "cell_type": "markdown",
   "metadata": {},
   "source": [
    "Let's first look at how similar the two classes are using cosine similarity function:"
   ]
  },
  {
   "cell_type": "code",
   "execution_count": 33,
   "metadata": {},
   "outputs": [],
   "source": [
    "def average_cosine_similarity(x,y,nsamp):\n",
    "    '''\n",
    "    x:  feature matrix [n_samples, n_features]\n",
    "    y:  class vector   [n_samples]\n",
    "    nsamp: number of samples to compute cosine similarity\n",
    "    '''\n",
    "    x1 = x[y==1,:] # class 1 feature data\n",
    "    x0 = x[y==0,:] # class 0 feature data\n",
    "    if nsamp>x1.shape[0] | nsamp>x0.shape[0]:\n",
    "        nsamp = min(x1.shape[0],x0.shape[0])\n",
    "        print('Use the lesser samples  = %s'%str(nsamp))\n",
    "    cs01 = cosine_similarity(x1[:nsamp,:],x0[:nsamp,:]) # computes cosine simlilarity between all pairwise samples in x1 and x0\n",
    "    plt.hist(cs01.reshape(-1,1),100); plt.show()\n",
    "    \n",
    "    print('The average cosine similarity = %s'%str(np.mean(cs01.reshape(-1,1))))\n",
    "    print('The median cosine similarity = %s'%str(np.median(cs01.reshape(-1,1))))"
   ]
  },
  {
   "cell_type": "code",
   "execution_count": 42,
   "metadata": {},
   "outputs": [
    {
     "data": {
      "image/png": "[encoded data removed]",
      "text/plain": [
       "<Figure size 432x288 with 1 Axes>"
      ]
     },
     "metadata": {},
     "output_type": "display_data"
    },
    {
     "name": "stdout",
     "output_type": "stream",
     "text": [
      "The average cosine similarity = 0.794856595919178\n",
      "The median cosine similarity = 0.9789127419404964\n"
     ]
    }
   ],
   "source": [
    "average_cosine_similarity(x,y,10000)"
   ]
  },
  {
   "cell_type": "markdown",
   "metadata": {},
   "source": [
    "The average cosine similarity between class 0 and class 1 are very high, meaning they are inseparable in feature space.\n",
    "\n",
    "Let's see if doing PCA transform can help separate the two sample classes:"
   ]
  },
  {
   "cell_type": "code",
   "execution_count": 14,
   "metadata": {},
   "outputs": [
    {
     "data": {
      "text/plain": [
       "PCA(copy=True, iterated_power='auto', n_components=6, random_state=None,\n",
       "  svd_solver='auto', tol=0.0, whiten=False)"
      ]
     },
     "execution_count": 14,
     "metadata": {},
     "output_type": "execute_result"
    }
   ],
   "source": [
    "pca = PCA(n_components=x.shape[1]) # use all \n",
    "pca.fit(x)"
   ]
  },
  {
   "cell_type": "code",
   "execution_count": 15,
   "metadata": {},
   "outputs": [
    {
     "name": "stdout",
     "output_type": "stream",
     "text": [
      "[2.35818460e+05 3.15943855e+04 7.78928641e+03 2.22170080e+03\n",
      " 2.13971098e+02 2.02733204e+02]\n"
     ]
    }
   ],
   "source": [
    "s = pca.singular_values_\n",
    "print(s)  # just the eigenvalues of the PC direction vectors, also the stdev of the PCs"
   ]
  },
  {
   "cell_type": "code",
   "execution_count": 16,
   "metadata": {},
   "outputs": [
    {
     "name": "stdout",
     "output_type": "stream",
     "text": [
      "[9.81227787e-01 1.76130297e-02 1.07055649e-03 8.70934277e-05\n",
      " 8.07838364e-07 7.25210377e-07]\n"
     ]
    }
   ],
   "source": [
    "print(pca.explained_variance_ratio_) # ([i/sum(pca.singular_values_**2) for i in pca.singular_values_**2])"
   ]
  },
  {
   "cell_type": "markdown",
   "metadata": {},
   "source": [
    "The sigular values are just the PC stdev of the PC axes, and the explained variance are just the component variances (i.e., squared stdev) divide by the total variance. "
   ]
  },
  {
   "cell_type": "code",
   "execution_count": 43,
   "metadata": {},
   "outputs": [
    {
     "data": {
      "image/png": "[encoded data removed]",
      "text/plain": [
       "<Figure size 432x288 with 1 Axes>"
      ]
     },
     "metadata": {},
     "output_type": "display_data"
    },
    {
     "name": "stdout",
     "output_type": "stream",
     "text": [
      "The average cosine similarity = 0.01809103653476206\n",
      "The median cosine similarity = -0.029494732850648644\n"
     ]
    }
   ],
   "source": [
    "P = pca.transform(x) # the projection of all samples on all PC axes, \n",
    "PC_normal = np.asarray([P[:,i]/s[i] for i in range(len(s))]).T # normalized PC: PC divided by sigular values\n",
    "# we can use P = PCA(n_components=2).transform(x)  if we just want the projections on the first 2 components, \n",
    "# this gives the same values as the full transformation, but just trancated \n",
    "average_cosine_similarity(PC_normal,y,10000) # computes cosine simlilarity between all pairwise samples in x1 and x0"
   ]
  },
  {
   "cell_type": "markdown",
   "metadata": {},
   "source": [
    "The mean and median consine similarity are very low, which shows that the two classes in PCA feature space are probably more separated."
   ]
  },
  {
   "cell_type": "markdown",
   "metadata": {},
   "source": [
    "Let's see how the projection behaves on the three leading modes in a plot:"
   ]
  },
  {
   "cell_type": "code",
   "execution_count": 45,
   "metadata": {},
   "outputs": [
    {
     "name": "stdout",
     "output_type": "stream",
     "text": [
      "Samples: Class 0 (red) = 51295, Class 1 (blue) = 142593\n"
     ]
    },
    {
     "data": {
      "image/png": "[encoded data removed]",
      "text/plain": [
       "<Figure size 720x720 with 1 Axes>"
      ]
     },
     "metadata": {},
     "output_type": "display_data"
    }
   ],
   "source": [
    "fig = plt.figure(figsize=(10,10))\n",
    "ax = fig.add_subplot(111, projection='3d')\n",
    "print(\"Samples: Class 0 (red) = %s, Class 1 (blue) = %s\"%(sum(y==0),sum(y==1)))\n",
    "ax.scatter(PC_normal[y==1,0], PC_normal[y==1,1], PC_normal[y==1,2], edgecolors='r', s=20, facecolors='none', linewidths=0.5, label='Class 1')\n",
    "ax.scatter(PC_normal[y==0,0], PC_normal[y==0,1], PC_normal[y==0,2], edgecolors='b', s=80, facecolors='none', linewidths=0.5, label='Class 0')\n",
    "plt.show()"
   ]
  },
  {
   "cell_type": "markdown",
   "metadata": {},
   "source": [
    "Seems like the two classes are separated (except some outliers) in the PCA feature space with Class 0 (blue) more clustered and Class 1 (red) more scattered. This seems like we can do a \"kernel trick\" by transforming the data by the \"closeness\" to the data centroid. \n",
    "\n",
    "Since rescaling is recommended for reasons such as making feature space more \"spherical\" instead of \"elliptical\" to speed up the stochastic gradient descent. Therefore we will just work on the normalized PC to avoid using `sklearn.preprocessing` to rescale the data.\n",
    "\n",
    "We are going to look at logistic regression, SVM, XGBoost and move forward to DNN later.\n",
    "\n",
    "\n",
    "Let's split the data into 80% training, 10% validation and 10% testing:"
   ]
  },
  {
   "cell_type": "code",
   "execution_count": 46,
   "metadata": {},
   "outputs": [],
   "source": [
    "ntotal = PC_normal.shape[0]\n",
    "ntrain = round(0.8*ntotal)\n",
    "nvalid = round(0.9*ntotal)\n",
    "np.random.shuffle(PC_normal) # shuffle along the first axis to de-order the samples\n",
    "#scaler = preprocessing.StandardScaler().fit(x) # standard normal z-scaling\n",
    "#xz = scaler.transform(x) # z-scaling\n",
    "#x_train,x_valid,x_test = x[:ntrain,:], x[ntrain:nvalid,:], x[nvalid:,:] # no scaling\n",
    "#x_train,x_valid,x_test = xz[:ntrain,:], xz[ntrain:nvalid,:], xz[nvalid:,:] # z scaling\n",
    "x_train,x_valid,x_test = PC_normal[:ntrain,:3], PC_normal[ntrain:nvalid,:3], PC_normal[nvalid:,:3] # PCA scaling\n",
    "y_train,y_valid,y_test = y[:ntrain], y[ntrain:nvalid], y[nvalid:]"
   ]
  },
  {
   "cell_type": "code",
   "execution_count": 47,
   "metadata": {},
   "outputs": [
    {
     "name": "stdout",
     "output_type": "stream",
     "text": [
      "193888 (155110, 3) (19389, 3) (19389, 3)\n"
     ]
    }
   ],
   "source": [
    "print(ntotal,x_train.shape,x_valid.shape,x_test.shape)"
   ]
  },
  {
   "cell_type": "markdown",
   "metadata": {},
   "source": [
    "# Train Models\n",
    "### Logistict Regression\n",
    "Let's start with logistic regression:"
   ]
  },
  {
   "cell_type": "code",
   "execution_count": 48,
   "metadata": {},
   "outputs": [
    {
     "name": "stdout",
     "output_type": "stream",
     "text": [
      "first two actual classes = [1 1]\n",
      "first two predicted classes = [1 1]\n",
      "first two predicted probalities [0 vs 1] = [[0.26305848 0.73694152]\n",
      " [0.26305847 0.73694153]]\n",
      "              precision    recall  f1-score   support\n",
      "\n",
      "     class 0       0.00      0.00      0.00      5150\n",
      "     class 1       0.73      1.00      0.85     14239\n",
      "\n",
      "   micro avg       0.73      0.73      0.73     19389\n",
      "   macro avg       0.37      0.50      0.42     19389\n",
      "weighted avg       0.54      0.73      0.62     19389\n",
      "\n"
     ]
    },
    {
     "name": "stderr",
     "output_type": "stream",
     "text": [
      "/usr/local/lib/python3.5/site-packages/sklearn/metrics/classification.py:1143: UndefinedMetricWarning: Precision and F-score are ill-defined and being set to 0.0 in labels with no predicted samples.\n",
      "  'precision', 'predicted', average, warn_for)\n"
     ]
    }
   ],
   "source": [
    "logreg = LogisticRegression(C=1e5, solver='lbfgs').fit(x_train,y_train) # multinomial uses cross entropy \n",
    "y_pred_lr = logreg.predict(x_test)\n",
    "y_predp_lr = logreg.predict_proba(x_test)\n",
    "report = classification_report(y_test,y_pred_lr,target_names=['class 0','class 1'])\n",
    "# X = [n_samples, n_features], y = [n_samples]\n",
    "# C = Inverse of regularization strength; must be a positive float. \n",
    "#     Like in support vector machines, smaller values specify stronger regularization.\n",
    "# solver = 'sag': stochastic average gradient descent\n",
    "#        = 'lbfgs': some Newton method\n",
    "print('first two actual classes = %s'%str(y_test[:2]))\n",
    "print('first two predicted classes = %s'%str(logreg.predict(x_test[:2,:]))) # predict class vs real class\n",
    "print('first two predicted probalities [0 vs 1] = %s'%str(logreg.predict_proba(x_test[:2,:]))) # predict\n",
    "# print('score = %s'%str(logreg.score(x_test,y_test))) # Score is the ratio of correctly predicted (TP+TN) samples.\n",
    "print(report) # support is just the # of samples detected or used"
   ]
  },
  {
   "cell_type": "markdown",
   "metadata": {},
   "source": [
    "### SVM\n",
    "SVM with kernel computes the distance between every training points which is super expensive O($n_\\text{features} \\times n_\\text{observations}^2$), so reduce the training samples to <100000, and don't do parameter grid search:"
   ]
  },
  {
   "cell_type": "code",
   "execution_count": 49,
   "metadata": {},
   "outputs": [
    {
     "data": {
      "text/plain": [
       "SVC(C=1.0, cache_size=200, class_weight=None, coef0=0.0,\n",
       "  decision_function_shape='ovr', degree=3, gamma='auto', kernel='rbf',\n",
       "  max_iter=-1, probability=False, random_state=None, shrinking=True,\n",
       "  tol=0.001, verbose=False)"
      ]
     },
     "execution_count": 49,
     "metadata": {},
     "output_type": "execute_result"
    }
   ],
   "source": [
    " clf = SVC(gamma='auto') # For non-linear classification use \n",
    "                        # gamma: Kernel coefficient for ‘rbf’, ‘poly’ and ‘sigmoid’. \n",
    "                        # Default is set to 'rbf' which is Radial Basis Function kernel\n",
    "clf.fit(x_train[:50000,:], y_train[:50000])            \n",
    "# let's do a grid search over the C and Gamma parameter space, \n",
    "# C (=1/\\lambda) is a regularization scale , larger (smaller) C gives lower (higher) bias and higher (lower) variance\n",
    "# Gamma (=1/\\sigma) is a scale on kernel \"width/variance\", larger (smaller) Gamma gives lower (higher) bias and higher (lower) variance\n",
    "# go to https://github.com/ginochen/ML_notes to learn more about these two parameters   \n",
    "# The kernel trick is super expensive since it computes distance between each point!!\n",
    "# see solution https://datascience.stackexchange.com/questions/989/svm-using-scikit-learn-runs-endlessly-and-never-completes-execution\n",
    "#C_range = np.logspace(-2, 10, 3) # linear spaced between log10scale -2 to 10, and returns 10 based exponents of 10^-2, ...1\n",
    "#gamma_range = np.logspace(-9, 3, 3) \n",
    "#param_grid = dict(gamma=gamma_range, C=C_range) \n",
    "#cv = StratifiedShuffleSplit(n_splits=5, test_size=0.2, random_state=42)\n",
    "#grid = GridSearchCV(SVC(), param_grid=param_grid, cv=cv)\n",
    "#grid.fit(x_train, y_train)\n",
    "\n",
    "#print(\"The best parameters are %s with a score of %0.2f\"\n",
    "#      % (grid.best_params_, grid.best_score_))"
   ]
  },
  {
   "cell_type": "code",
   "execution_count": 50,
   "metadata": {},
   "outputs": [
    {
     "name": "stdout",
     "output_type": "stream",
     "text": [
      "(19389, 3) (19389,) 19389\n"
     ]
    }
   ],
   "source": [
    "y_pred_svc = clf.predict(x_test)\n",
    "print(x_test.shape,y_pred_svc.shape,sum(y_pred_svc))"
   ]
  },
  {
   "cell_type": "code",
   "execution_count": 51,
   "metadata": {},
   "outputs": [
    {
     "name": "stdout",
     "output_type": "stream",
     "text": [
      "              precision    recall  f1-score   support\n",
      "\n",
      "     class 0       0.00      0.00      0.00      5150\n",
      "     class 1       0.73      1.00      0.85     14239\n",
      "\n",
      "   micro avg       0.73      0.73      0.73     19389\n",
      "   macro avg       0.37      0.50      0.42     19389\n",
      "weighted avg       0.54      0.73      0.62     19389\n",
      "\n"
     ]
    },
    {
     "name": "stderr",
     "output_type": "stream",
     "text": [
      "/usr/local/lib/python3.5/site-packages/sklearn/metrics/classification.py:1143: UndefinedMetricWarning: Precision and F-score are ill-defined and being set to 0.0 in labels with no predicted samples.\n",
      "  'precision', 'predicted', average, warn_for)\n"
     ]
    }
   ],
   "source": [
    "print(classification_report(y_test,y_pred_svc,target_names=['class 0','class 1']))"
   ]
  },
  {
   "cell_type": "markdown",
   "metadata": {},
   "source": [
    "### DNN"
   ]
  },
  {
   "cell_type": "code",
   "execution_count": 52,
   "metadata": {},
   "outputs": [],
   "source": [
    "class KerasBatchGenerator:\n",
    "    def __init__(self,data,batchsize,ndim,nsteps,skip_steps):\n",
    "        self.data=data\n",
    "        self.batchsize=batchsize\n",
    "        self.current_idx=0\n",
    "        self.nsteps=nsteps\n",
    "        self.skip_steps = skip_steps\n",
    "        self.ndim = ndim\n",
    "    def generate(self,model):\n",
    "        x = np.zeros((self.nsteps, self.ndim))            \n",
    "        y = np.zeros((self.nsteps, 1))\n",
    "        while True:\n",
    "            for i in range(self.batchsize):\n",
    "                x, y = self.data[self.current_idx:self.current_idx+self.nsteps,:-1], self.data[self.current_idx:self.current_idx+self.nsteps,-1]\n",
    "                self.current_idx += self.skip_steps             \n",
    "                yield x, y # yield returns a set of x,y values for model.fit_generator to perform batch training"
   ]
  },
  {
   "cell_type": "code",
   "execution_count": null,
   "metadata": {
    "scrolled": false
   },
   "outputs": [
    {
     "name": "stdout",
     "output_type": "stream",
     "text": [
      "_________________________________________________________________\n",
      "Layer (type)                 Output Shape              Param #   \n",
      "=================================================================\n",
      "dense_1 (Dense)              (None, 3)                 12        \n",
      "_________________________________________________________________\n",
      "dropout_1 (Dropout)          (None, 3)                 0         \n",
      "_________________________________________________________________\n",
      "dense_2 (Dense)              (None, 100)               400       \n",
      "_________________________________________________________________\n",
      "dropout_2 (Dropout)          (None, 100)               0         \n",
      "_________________________________________________________________\n",
      "dense_3 (Dense)              (None, 100)               10100     \n",
      "_________________________________________________________________\n",
      "dropout_3 (Dropout)          (None, 100)               0         \n",
      "_________________________________________________________________\n",
      "dense_4 (Dense)              (None, 100)               10100     \n",
      "_________________________________________________________________\n",
      "dropout_4 (Dropout)          (None, 100)               0         \n",
      "_________________________________________________________________\n",
      "dense_5 (Dense)              (None, 100)               10100     \n",
      "_________________________________________________________________\n",
      "dropout_5 (Dropout)          (None, 100)               0         \n",
      "_________________________________________________________________\n",
      "dense_6 (Dense)              (None, 100)               10100     \n",
      "_________________________________________________________________\n",
      "dropout_6 (Dropout)          (None, 100)               0         \n",
      "_________________________________________________________________\n",
      "dense_7 (Dense)              (None, 100)               10100     \n",
      "_________________________________________________________________\n",
      "dropout_7 (Dropout)          (None, 100)               0         \n",
      "_________________________________________________________________\n",
      "dense_8 (Dense)              (None, 100)               10100     \n",
      "_________________________________________________________________\n",
      "dropout_8 (Dropout)          (None, 100)               0         \n",
      "_________________________________________________________________\n",
      "dense_9 (Dense)              (None, 100)               10100     \n",
      "_________________________________________________________________\n",
      "dropout_9 (Dropout)          (None, 100)               0         \n",
      "_________________________________________________________________\n",
      "dense_10 (Dense)             (None, 100)               10100     \n",
      "_________________________________________________________________\n",
      "dropout_10 (Dropout)         (None, 100)               0         \n",
      "_________________________________________________________________\n",
      "dense_11 (Dense)             (None, 100)               10100     \n",
      "_________________________________________________________________\n",
      "dropout_11 (Dropout)         (None, 100)               0         \n",
      "_________________________________________________________________\n",
      "dense_12 (Dense)             (None, 100)               10100     \n",
      "_________________________________________________________________\n",
      "dropout_12 (Dropout)         (None, 100)               0         \n",
      "_________________________________________________________________\n",
      "dense_13 (Dense)             (None, 100)               10100     \n",
      "_________________________________________________________________\n",
      "dropout_13 (Dropout)         (None, 100)               0         \n",
      "_________________________________________________________________\n",
      "dense_14 (Dense)             (None, 100)               10100     \n",
      "_________________________________________________________________\n",
      "dropout_14 (Dropout)         (None, 100)               0         \n",
      "_________________________________________________________________\n",
      "dense_15 (Dense)             (None, 100)               10100     \n",
      "_________________________________________________________________\n",
      "dropout_15 (Dropout)         (None, 100)               0         \n",
      "_________________________________________________________________\n",
      "dense_16 (Dense)             (None, 100)               10100     \n",
      "_________________________________________________________________\n",
      "dropout_16 (Dropout)         (None, 100)               0         \n",
      "_________________________________________________________________\n",
      "dense_17 (Dense)             (None, 100)               10100     \n",
      "_________________________________________________________________\n",
      "dropout_17 (Dropout)         (None, 100)               0         \n",
      "_________________________________________________________________\n",
      "dense_18 (Dense)             (None, 100)               10100     \n",
      "_________________________________________________________________\n",
      "dropout_18 (Dropout)         (None, 100)               0         \n",
      "_________________________________________________________________\n",
      "dense_19 (Dense)             (None, 100)               10100     \n",
      "_________________________________________________________________\n",
      "dropout_19 (Dropout)         (None, 100)               0         \n",
      "_________________________________________________________________\n",
      "dense_20 (Dense)             (None, 100)               10100     \n",
      "_________________________________________________________________\n",
      "dropout_20 (Dropout)         (None, 100)               0         \n",
      "_________________________________________________________________\n",
      "dense_21 (Dense)             (None, 100)               10100     \n",
      "_________________________________________________________________\n",
      "dropout_21 (Dropout)         (None, 100)               0         \n",
      "_________________________________________________________________\n",
      "dense_22 (Dense)             (None, 100)               10100     \n",
      "_________________________________________________________________\n",
      "dropout_22 (Dropout)         (None, 100)               0         \n",
      "_________________________________________________________________\n",
      "dense_23 (Dense)             (None, 100)               10100     \n",
      "_________________________________________________________________\n",
      "dropout_23 (Dropout)         (None, 100)               0         \n",
      "_________________________________________________________________\n",
      "dense_24 (Dense)             (None, 100)               10100     \n",
      "_________________________________________________________________\n",
      "dropout_24 (Dropout)         (None, 100)               0         \n",
      "_________________________________________________________________\n",
      "dense_25 (Dense)             (None, 100)               10100     \n",
      "_________________________________________________________________\n",
      "dropout_25 (Dropout)         (None, 100)               0         \n",
      "_________________________________________________________________\n",
      "dense_26 (Dense)             (None, 100)               10100     \n",
      "_________________________________________________________________\n",
      "dropout_26 (Dropout)         (None, 100)               0         \n",
      "_________________________________________________________________\n",
      "dense_27 (Dense)             (None, 100)               10100     \n",
      "_________________________________________________________________\n",
      "dropout_27 (Dropout)         (None, 100)               0         \n",
      "_________________________________________________________________\n",
      "dense_28 (Dense)             (None, 100)               10100     \n",
      "_________________________________________________________________\n",
      "dropout_28 (Dropout)         (None, 100)               0         \n",
      "_________________________________________________________________\n",
      "dense_29 (Dense)             (None, 100)               10100     \n",
      "_________________________________________________________________\n",
      "dropout_29 (Dropout)         (None, 100)               0         \n",
      "_________________________________________________________________\n",
      "dense_30 (Dense)             (None, 100)               10100     \n",
      "_________________________________________________________________\n",
      "dropout_30 (Dropout)         (None, 100)               0         \n",
      "_________________________________________________________________\n",
      "dense_31 (Dense)             (None, 100)               10100     \n",
      "_________________________________________________________________\n",
      "dropout_31 (Dropout)         (None, 100)               0         \n",
      "_________________________________________________________________\n",
      "dense_32 (Dense)             (None, 100)               10100     \n",
      "_________________________________________________________________\n",
      "dropout_32 (Dropout)         (None, 100)               0         \n",
      "_________________________________________________________________\n",
      "dense_33 (Dense)             (None, 100)               10100     \n",
      "_________________________________________________________________\n",
      "dropout_33 (Dropout)         (None, 100)               0         \n",
      "_________________________________________________________________\n",
      "dense_34 (Dense)             (None, 100)               10100     \n",
      "_________________________________________________________________\n",
      "dropout_34 (Dropout)         (None, 100)               0         \n",
      "_________________________________________________________________\n",
      "dense_35 (Dense)             (None, 100)               10100     \n",
      "_________________________________________________________________\n",
      "dropout_35 (Dropout)         (None, 100)               0         \n",
      "_________________________________________________________________\n",
      "dense_36 (Dense)             (None, 100)               10100     \n",
      "_________________________________________________________________\n",
      "dropout_36 (Dropout)         (None, 100)               0         \n",
      "_________________________________________________________________\n",
      "dense_37 (Dense)             (None, 100)               10100     \n",
      "_________________________________________________________________\n",
      "dropout_37 (Dropout)         (None, 100)               0         \n",
      "_________________________________________________________________\n",
      "dense_38 (Dense)             (None, 100)               10100     \n",
      "_________________________________________________________________\n",
      "dropout_38 (Dropout)         (None, 100)               0         \n",
      "_________________________________________________________________\n",
      "dense_39 (Dense)             (None, 100)               10100     \n",
      "_________________________________________________________________\n",
      "dropout_39 (Dropout)         (None, 100)               0         \n",
      "_________________________________________________________________\n",
      "dense_40 (Dense)             (None, 100)               10100     \n",
      "_________________________________________________________________\n",
      "dropout_40 (Dropout)         (None, 100)               0         \n",
      "_________________________________________________________________\n",
      "dense_41 (Dense)             (None, 100)               10100     \n",
      "_________________________________________________________________\n",
      "dropout_41 (Dropout)         (None, 100)               0         \n",
      "_________________________________________________________________\n",
      "dense_42 (Dense)             (None, 100)               10100     \n",
      "_________________________________________________________________\n",
      "dropout_42 (Dropout)         (None, 100)               0         \n",
      "_________________________________________________________________\n",
      "dense_43 (Dense)             (None, 100)               10100     \n",
      "_________________________________________________________________\n",
      "dropout_43 (Dropout)         (None, 100)               0         \n",
      "_________________________________________________________________\n",
      "dense_44 (Dense)             (None, 100)               10100     \n",
      "_________________________________________________________________\n",
      "dropout_44 (Dropout)         (None, 100)               0         \n",
      "_________________________________________________________________\n",
      "dense_45 (Dense)             (None, 100)               10100     \n",
      "_________________________________________________________________\n",
      "dropout_45 (Dropout)         (None, 100)               0         \n",
      "_________________________________________________________________\n",
      "dense_46 (Dense)             (None, 100)               10100     \n",
      "_________________________________________________________________\n",
      "dropout_46 (Dropout)         (None, 100)               0         \n",
      "_________________________________________________________________\n",
      "dense_47 (Dense)             (None, 100)               10100     \n",
      "_________________________________________________________________\n",
      "dropout_47 (Dropout)         (None, 100)               0         \n",
      "_________________________________________________________________\n",
      "dense_48 (Dense)             (None, 100)               10100     \n",
      "_________________________________________________________________\n",
      "dropout_48 (Dropout)         (None, 100)               0         \n",
      "_________________________________________________________________\n",
      "dense_49 (Dense)             (None, 100)               10100     \n",
      "_________________________________________________________________\n",
      "dropout_49 (Dropout)         (None, 100)               0         \n",
      "_________________________________________________________________\n",
      "dense_50 (Dense)             (None, 100)               10100     \n",
      "_________________________________________________________________\n",
      "dense_51 (Dense)             (None, 1)                 101       \n",
      "=================================================================\n",
      "Total params: 485,313\n",
      "Trainable params: 485,313\n",
      "Non-trainable params: 0\n",
      "_________________________________________________________________\n"
     ]
    }
   ],
   "source": [
    "# Define model parameters\n",
    "batchsize = 100 # number of mini-batches per epoch\n",
    "nsteps = 32 # number of samples in each mini-batch\n",
    "ndim = x_train.shape[1]  # feature dimensions\n",
    "hdim = 100 # hidden layer dimensions\n",
    "hlayers= 50 # hidden layers\n",
    "nepochs=50\n",
    "dropoutRate = 0.5\n",
    "ntrain = x_train.shape[0]\n",
    "nvalid = x_valid.shape[0]\n",
    "datapath = './'\n",
    "train_data_generator = KerasBatchGenerator(np.concatenate((x_train,y_train.reshape(-1,1)),axis=1), batchsize, ndim, nsteps, skip_steps=nsteps)\n",
    "valid_data_generator = KerasBatchGenerator(np.concatenate((x_valid,y_valid.reshape(-1,1)),axis=1), batchsize, ndim, nsteps, skip_steps=nsteps)\n",
    "def build_model(ndim,hdim,hlayers,dropoutRate, datapath):\n",
    "    model = Sequential()\n",
    "    model.add(Dense(ndim, input_dim= ndim, kernel_initializer='glorot_normal', activation='relu'))\n",
    "    for _ in range(hlayers-1):\n",
    "        model.add(Dropout(dropoutRate))\n",
    "        model.add(Dense(hdim, kernel_initializer='glorot_normal', activation='relu')) \n",
    "    model.add(Dense(1,kernel_initializer='glorot_normal', activation='sigmoid')) # determine the probability of anomaly \n",
    "    model.compile(optimizer='adam', loss='binary_crossentropy', metrics=[\"accuracy\"])\n",
    "#    checkpointer = keras.callbacks.ModelCheckpoint(filepath=datapath + '/model-{epoch:02d}.hdf5', verbose=1)\n",
    "    checkpointer = [EarlyStopping(monitor='val_loss', patience=10), # patience: wait for at least 5 epochs before early stopping\n",
    "       ModelCheckpoint(filepath=datapath+'/best_model.h5', monitor='val_loss', save_best_only=True, verbose=1)]\n",
    "    model.summary()\n",
    "    return model, checkpointer\n",
    "last_epoch = 0 # set to 0 for new model training\n",
    "model, checkpointer  = build_model(ndim, hdim, hlayers, dropoutRate, datapath)\n",
    "model.fit_generator(train_data_generator.generate(model), ntrain//(batchsize*nsteps), epochs=last_epoch+nepochs,\n",
    "                validation_data=valid_data_generator.generate(model), validation_steps=math.ceil(nvalid/(batchsize*nsteps)),\n",
    "                callbacks=checkpointer,shuffle=True,initial_epoch=last_epoch,verbose=1)\n"
   ]
  },
  {
   "cell_type": "code",
   "execution_count": 212,
   "metadata": {},
   "outputs": [],
   "source": [
    "def predict(prediction_samp,data):\n",
    "    model = keras.models.load_model('./best_model.h5')\n",
    "    y=[None]*prediction_samp\n",
    "    for i in range(prediction_samp):\n",
    "        y[i] = model.predict(data[i,:].reshape(-1,1))\n",
    "    return y\n",
    "\n",
    "def plot_confusion_matrix(cm, classes,\n",
    "                          normalize=False,\n",
    "                          title='Confusion matrix',\n",
    "                          cmap=plt.cm.Blues):\n",
    "    \"\"\"\n",
    "    This function prints and plots the confusion matrix.\n",
    "    Normalization can be applied by setting `normalize=True`.\n",
    "    \"\"\"\n",
    "    if normalize:\n",
    "        cm = cm.astype('float') / cm.sum(axis=1)[:, np.newaxis]\n",
    "        print(\"Normalized confusion matrix\")\n",
    "    else:\n",
    "        print('Confusion matrix, without normalization')\n",
    "\n",
    "    print(cm)\n",
    "\n",
    "    plt.imshow(cm, interpolation='nearest', cmap=cmap)\n",
    "    plt.title(title)\n",
    "    plt.colorbar()\n",
    "    tick_marks = np.arange(len(classes))\n",
    "    plt.xticks(tick_marks, classes, rotation=45)\n",
    "    plt.yticks(tick_marks, classes)\n",
    "\n",
    "    fmt = '.2f' if normalize else 'd'\n",
    "    thresh = cm.max() / 2.\n",
    "    for i, j in itertools.product(range(cm.shape[0]), range(cm.shape[1])):\n",
    "        plt.text(j, i, format(cm[i, j], fmt),\n",
    "                 horizontalalignment=\"center\",\n",
    "                 color=\"white\" if cm[i, j] > thresh else \"black\")\n",
    "\n",
    "    plt.ylabel('True label')\n",
    "    plt.xlabel('Predicted label')\n",
    "    plt.tight_layout()\n",
    "prediction_samp=10000\n",
    "y_preddnn = np.asarray(predict(prediction_samp,x_test)).reshape(-1,1)\n",
    "y_true_dnn = y_test[:prediction_samp].reshape(-1,1)"
   ]
  },
  {
   "cell_type": "code",
   "execution_count": 214,
   "metadata": {},
   "outputs": [
    {
     "name": "stdout",
     "output_type": "stream",
     "text": [
      "              precision    recall  f1-score   support\n",
      "\n",
      "     class 0       0.00      0.00      0.00      2445\n",
      "     class 1       0.76      1.00      0.86      7555\n",
      "\n",
      "   micro avg       0.76      0.76      0.76     10000\n",
      "   macro avg       0.38      0.50      0.43     10000\n",
      "weighted avg       0.57      0.76      0.65     10000\n",
      "\n"
     ]
    },
    {
     "name": "stderr",
     "output_type": "stream",
     "text": [
      "/usr/local/lib/python3.5/site-packages/sklearn/metrics/classification.py:1143: UndefinedMetricWarning: Precision and F-score are ill-defined and being set to 0.0 in labels with no predicted samples.\n",
      "  'precision', 'predicted', average, warn_for)\n"
     ]
    }
   ],
   "source": [
    "y_pred_dnn = y_preddnn>=0.5\n",
    "print(classification_report(y_true_dnn,y_pred_dnn,target_names=['class 0','class 1']))"
   ]
  },
  {
   "cell_type": "markdown",
   "metadata": {},
   "source": [
    "# Reference\n",
    "* [Endless run of kernel SVM](https://datascience.stackexchange.com/questions/989/svm-using-scikit-learn-runs-endlessly-and-never-completes-execution)\n",
    "* [mathematical formulation of SVC](https://scikit-learn.org/stable/modules/svm.html)"
   ]
  },
  {
   "cell_type": "code",
   "execution_count": null,
   "metadata": {},
   "outputs": [],
   "source": []
  }
 ],
 "metadata": {
  "kernelspec": {
   "display_name": "Python 3",
   "language": "python",
   "name": "python3"
  },
  "language_info": {
   "codemirror_mode": {
    "name": "ipython",
    "version": 3
   },
   "file_extension": ".py",
   "mimetype": "text/x-python",
   "name": "python",
   "nbconvert_exporter": "python",
   "pygments_lexer": "ipython3",
   "version": "3.5.0"
  }
 },
 "nbformat": 4,
 "nbformat_minor": 2
}
