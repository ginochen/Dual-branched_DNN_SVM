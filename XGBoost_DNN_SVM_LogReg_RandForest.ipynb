{
 "cells": [
  {
   "cell_type": "markdown",
   "metadata": {},
   "source": [
    "# Two-branched DNN Car Reservation Prediction \n",
    "\n",
    "# Overview\n",
    "Our goal is to predict the number of reservations of vehicles (number of unique reservations per vehicle (non-negative numeric) and reservation type (categorical)) using six input features. The two output variables makes this a multi-output problem. We have several options to build a multi-output deep neural network: (1) Create an output layer using sigmoid with a single loss \"MSE\" for the categorical and the scaled numeric variable (between -1 and 1), or even better (2) create a 2-branched DNN with an independent sigmoid output layer for the categorical output with cross-entropy loss, and a ReLU linear regression output layer for the non-negative numeric variable with MSE loss.\n",
    "\n",
    "Benchmark ML approaches using a multi-feature linear regression model and SVM (for numeric output), and a logistic regression (for categorical output) will be developed to compare with the 2-branched DNN.\n",
    "\n",
    "# Background\n",
    "\n",
    "My math notebooks ([support vector machine](https://github.com/ginochen/ML_notes/blob/master/support_vector_machine.ipynb), [logistic regression](https://github.com/ginochen/ML_notes/blob/master/logistic_regression_cross_entropy.ipynb), [stochastic gradient descent](https://github.com/ginochen/ML_notes/blob/master/stochastic_gradient_descent.ipynb)) for the ML tools used in this project serve as reminders of what's really happening algorithmically in the python packages.\n",
    "\n",
    "\n",
    "\n",
    "# Data \n",
    "Due to confidentiality issues of the data, let's import, clean and PCA transform the feature space. The PCA also serve as a normalizer which makes training converge faster for SVM."
   ]
  },
  {
   "cell_type": "code",
   "execution_count": 133,
   "metadata": {},
   "outputs": [],
   "source": [
    "# as before load all lib here\n",
    "import pandas as pd\n",
    "import numpy as np\n",
    "import math\n",
    "from sklearn.metrics.pairwise import cosine_similarity\n",
    "from sklearn.decomposition import PCA\n",
    "from sklearn.linear_model import LinearRegression, LogisticRegression # logistic regression function p(x) = 1/(1+e^{b^T*x}), logit(p) = b^T*x\n",
    "from sklearn.metrics import precision_recall_fscore_support, mean_squared_error\n",
    "from sklearn.metrics import classification_report\n",
    "from sklearn.svm import SVC\n",
    "from sklearn.model_selection import StratifiedShuffleSplit\n",
    "from sklearn.model_selection import GridSearchCV\n",
    "from sklearn import preprocessing\n",
    "\n",
    "import tensorflow as tf\n",
    "import keras\n",
    "from keras.models import Sequential\n",
    "from keras.layers import Input, Dense, Dropout, LSTM, TimeDistributed, Activation, LeakyReLU, BatchNormalization\n",
    "from keras.callbacks import EarlyStopping, ModelCheckpoint\n",
    "\n",
    "from mpl_toolkits.mplot3d import Axes3D\n",
    "import matplotlib.pyplot as plt\n"
   ]
  },
  {
   "cell_type": "code",
   "execution_count": null,
   "metadata": {},
   "outputs": [],
   "source": [
    "import numpy as np\n",
    "class measures():\n",
    "    def __init__(self,y):\n",
    "        self.y = y\n",
    "    def mad(self): # median_absolute_deviation, measures the variability of a 1-D data\n",
    "        return np.median(np.absolute(self.y - np.median(self.y))) # MAD\n",
    "    @staticmethod\n",
    "    def mse(y,z): # no need to load sklearn, just use this like a regular function, data_measures.mean_squared_error(np.array([3,5,7]),np.array([1,3,4]))\n",
    "        return np.mean((y - z)**2) # mean_squared_error\n",
    "        "
   ]
  },
  {
   "cell_type": "code",
   "execution_count": null,
   "metadata": {},
   "outputs": [],
   "source": [
    "prediction_samp=10000"
   ]
  },
  {
   "cell_type": "code",
   "execution_count": 2,
   "metadata": {},
   "outputs": [],
   "source": [
    "df_vehicles = pd.read_csv('./vehicles.csv')\n",
    "df_reservations = pd.read_csv('./reservations.csv')"
   ]
  },
  {
   "cell_type": "code",
   "execution_count": 3,
   "metadata": {},
   "outputs": [],
   "source": [
    "#print('VEHICLES\\n =============================================== \\n',df_vehicles.head(4))\n",
    "#print('\\nRESERVATIONS\\n ========================================== \\n',df_reservations.head(4))"
   ]
  },
  {
   "cell_type": "code",
   "execution_count": 241,
   "metadata": {
    "scrolled": false
   },
   "outputs": [
    {
     "name": "stdout",
     "output_type": "stream",
     "text": [
      "   vehicle_id  reservation_id  reservation_type  is_delivery  actual_price  \\\n",
      "0      238780       2677903.0               2.0            0           121   \n",
      "1      238780       3187363.0               2.0            0           121   \n",
      "2      309795       2752124.0               2.0            1            61   \n",
      "3      309795       2731316.0               2.0            1            61   \n",
      "4      309795       3119198.0               1.0            1            61   \n",
      "\n",
      "   recommended_price  num_images  description_length  is_recent_model  \\\n",
      "0                 48           9                   0                0   \n",
      "1                 48           9                   0                0   \n",
      "2                 66          12                   0                0   \n",
      "3                 66          12                   0                0   \n",
      "4                 66          12                   0                0   \n",
      "\n",
      "   n_reserve  \n",
      "0          2  \n",
      "1          2  \n",
      "2         11  \n",
      "3         11  \n",
      "4         11  \n"
     ]
    }
   ],
   "source": [
    "df = pd.merge(df_reservations,df_vehicles, how='inner', on='vehicle_id') # join on intersection on vehicle_id\n",
    "tmp = df.groupby('vehicle_id').reservation_id.nunique().to_frame()\n",
    "tmp.columns = [\"n_reserve\"] # rename the column to number of reservations for each unique vehicle ID\n",
    "df = pd.merge(df,tmp,how='inner',on='vehicle_id')\n",
    "#drop_duplicates() \n",
    "print(df.iloc[:5,:])"
   ]
  },
  {
   "cell_type": "code",
   "execution_count": 5,
   "metadata": {},
   "outputs": [
    {
     "name": "stdout",
     "output_type": "stream",
     "text": [
      "(samples, features) = (195243, 10)\n",
      "max description length = 7780\n"
     ]
    }
   ],
   "source": [
    "print('(samples, features) = %s'%str(df.shape))\n",
    "print('max description length = %s'%str(df.description_length.max()))"
   ]
  },
  {
   "cell_type": "markdown",
   "metadata": {},
   "source": [
    "Let's checkout the feature space characteristics! Instead of using all 6 dim, which is hard to visualize, let's just look at the top 3 principle axes feature space:"
   ]
  },
  {
   "cell_type": "code",
   "execution_count": 253,
   "metadata": {},
   "outputs": [
    {
     "name": "stdout",
     "output_type": "stream",
     "text": [
      "x = \n",
      "is_delivery             0.0\n",
      "actual_price          121.0\n",
      "recommended_price      48.0\n",
      "num_images              9.0\n",
      "description_length      0.0\n",
      "is_recent_model         0.0\n",
      "Name: 0, dtype: float64\n",
      "\n",
      "y_num: \n",
      "number of reservation = [ 2  2 11 ...  0  0  0] \n",
      "\n",
      "y_cat: \n",
      "reservation_type = {0.0, 1.0, 2.0}\n",
      "\n",
      "y_catx: reservation_type binarized = [[0 0 1]\n",
      " [0 0 1]]\n"
     ]
    },
    {
     "data": {
      "image/png": "[encoded data removed]",
      "text/plain": [
       "<Figure size 432x288 with 1 Axes>"
      ]
     },
     "metadata": {},
     "output_type": "display_data"
    }
   ],
   "source": [
    "nrows = df.shape[0]\n",
    "#df = df.dropna(axis=0) # drop NaNs\n",
    "#x = df.iloc[:, [2,4,5,8]].values\n",
    "x = df.iloc[:, range(3,9)].values # skip is_delivery since it's the tag\n",
    "print('x = \\n%s'%str(df.iloc[0,range(3,9)]))\n",
    "y_num = df['n_reserve'].values # the tag to color mark on projected features\n",
    "y_cat = df['reservation_type'].values\n",
    "y_cat[np.isnan(y_cat_orig)]=0\n",
    "lb = preprocessing.LabelBinarizer()\n",
    "y_catx = lb.fit_transform(y_cat) # binarizer transformed y_cat into [nsamples,n_cats] matrix\n",
    "print('\\ny_num: \\nnumber of reservation = %s \\n\\ny_cat: \\nreservation_type = %s'%(str(y_num),str(set(y_cat))))\n",
    "print('\\ny_catx: reservation_type binarized = %s'%str(y_catx[:2,:]))\n",
    "plt.hist(y_num,20)\n",
    "plt.show()"
   ]
  },
  {
   "cell_type": "markdown",
   "metadata": {},
   "source": [
    "Let's split the reservation number into two classes high (>15) and low (<=15), and get a first look at how similar the two classes are using cosine similarity function:"
   ]
  },
  {
   "cell_type": "code",
   "execution_count": 167,
   "metadata": {},
   "outputs": [],
   "source": [
    "def average_cosine_similarity(x,y,nsamp):\n",
    "    '''\n",
    "    x:  feature matrix [n_samples, n_features]\n",
    "    y:  class vector   [n_samples]\n",
    "    nsamp: number of samples to compute cosine similarity\n",
    "    '''\n",
    "    x1 = x[y==1,:] # class 1 feature data\n",
    "    x0 = x[y==0,:] # class 0 feature data\n",
    "    if nsamp>x1.shape[0] | nsamp>x0.shape[0]:\n",
    "        nsamp = min(x1.shape[0],x0.shape[0])\n",
    "        print('Use the lesser samples  = %s'%str(nsamp))\n",
    "    cs01 = cosine_similarity(x1[:nsamp,:],x0[:nsamp,:]) # computes cosine simlilarity between all pairwise samples in x1 and x0\n",
    "    #ed01 = np.linalg.norm(x1[:nsamp,:]-x0[:nsamp,:])\n",
    "    plt.hist(cs01.reshape(-1,1),100); plt.show()\n",
    "    \n",
    "    print('The average cosine similarity = %s'%str(np.mean(cs01.reshape(-1,1))))\n",
    "    print('The median cosine similarity = %s'%str(np.median(cs01.reshape(-1,1))))"
   ]
  },
  {
   "cell_type": "code",
   "execution_count": 229,
   "metadata": {},
   "outputs": [
    {
     "data": {
      "image/png": "[encoded data removed]",
      "text/plain": [
       "<Figure size 432x288 with 1 Axes>"
      ]
     },
     "metadata": {},
     "output_type": "display_data"
    },
    {
     "name": "stdout",
     "output_type": "stream",
     "text": [
      "The average cosine similarity = 0.7817874561749854\n",
      "The median cosine similarity = 0.9784254425331133\n"
     ]
    }
   ],
   "source": [
    "thres = 1\n",
    "average_cosine_similarity(x,y_cat>thres,10000)\n",
    "#np.linalg.norm(a-b) maybe do pairwise distance?"
   ]
  },
  {
   "cell_type": "markdown",
   "metadata": {},
   "source": [
    "The average cosine similarity between the two classes are very high, meaning they are hard to separate in feature space.\n",
    "\n",
    "Let's see if doing PCA transform can help separate the two sample classes:"
   ]
  },
  {
   "cell_type": "code",
   "execution_count": 224,
   "metadata": {},
   "outputs": [
    {
     "data": {
      "text/plain": [
       "PCA(copy=True, iterated_power='auto', n_components=6, random_state=None,\n",
       "  svd_solver='auto', tol=0.0, whiten=False)"
      ]
     },
     "execution_count": 224,
     "metadata": {},
     "output_type": "execute_result"
    }
   ],
   "source": [
    "pca = PCA(n_components=x.shape[1]) # use all \n",
    "pca.fit(x)"
   ]
  },
  {
   "cell_type": "code",
   "execution_count": 225,
   "metadata": {},
   "outputs": [
    {
     "name": "stdout",
     "output_type": "stream",
     "text": [
      "[2.36941876e+05 3.17776567e+04 8.00781480e+03 2.23030351e+03\n",
      " 2.05296110e+02 1.88772658e+02]\n"
     ]
    }
   ],
   "source": [
    "s = pca.singular_values_\n",
    "print(s)  # just the eigenvalues of the PC direction vectors, also the stdev of the PCs"
   ]
  },
  {
   "cell_type": "code",
   "execution_count": 226,
   "metadata": {},
   "outputs": [
    {
     "name": "stdout",
     "output_type": "stream",
     "text": [
      "[9.81143164e-01 1.76478773e-02 1.12066750e-03 8.69313996e-05\n",
      " 7.36563472e-07 6.22768905e-07]\n"
     ]
    }
   ],
   "source": [
    "print(pca.explained_variance_ratio_) # ([i/sum(pca.singular_values_**2) for i in pca.singular_values_**2])"
   ]
  },
  {
   "cell_type": "markdown",
   "metadata": {},
   "source": [
    "The sigular values are just the PC stdev of the PC axes, and the explained variance are just the component variances (i.e., squared stdev) divide by the total variance. "
   ]
  },
  {
   "cell_type": "code",
   "execution_count": 227,
   "metadata": {},
   "outputs": [
    {
     "data": {
      "image/png": "[encoded data removed]",
      "text/plain": [
       "<Figure size 432x288 with 1 Axes>"
      ]
     },
     "metadata": {},
     "output_type": "display_data"
    },
    {
     "name": "stdout",
     "output_type": "stream",
     "text": [
      "The average cosine similarity = 0.015084450410159206\n",
      "The median cosine similarity = -0.06231304008082199\n"
     ]
    }
   ],
   "source": [
    "P = pca.transform(x) # the projection of all samples on all PC axes, \n",
    "PC_normal = np.asarray([P[:,i]/s[i] for i in range(len(s))]).T # normalized PC: PC divided by sigular values\n",
    "# we can use P = PCA(n_components=2).transform(x)  if we just want the projections on the first 2 components, \n",
    "# this gives the same values as the full transformation, but just trancated \n",
    "average_cosine_similarity(PC_normal,y_cat>thres,10000) # computes cosine simlilarity between all pairwise samples in x1 and x0"
   ]
  },
  {
   "cell_type": "markdown",
   "metadata": {},
   "source": [
    "The mean and median consine similarity are very low, which shows that the two classes in PCA feature space are probably more separated."
   ]
  },
  {
   "cell_type": "markdown",
   "metadata": {},
   "source": [
    "Let's see how the projection behaves on the three leading modes in a plot:"
   ]
  },
  {
   "cell_type": "code",
   "execution_count": 308,
   "metadata": {},
   "outputs": [
    {
     "name": "stdout",
     "output_type": "stream",
     "text": [
      "Samples: Class 0 (red) = 1355, Class 1 (blue) = 800, Class 2 (green) = 1468\n"
     ]
    },
    {
     "data": {
      "image/png": "[encoded data removed]",
      "text/plain": [
       "<Figure size 720x720 with 1 Axes>"
      ]
     },
     "metadata": {},
     "output_type": "display_data"
    }
   ],
   "source": [
    "fig = plt.figure(figsize=(10,10))\n",
    "ax = fig.add_subplot(111, projection='3d')\n",
    "print(\"Samples: Class 0 (red) = %s, Class 1 (blue) = %s, Class 2 (green) = %s\"%(sum(y_cat==0),sum(y==1),sum(y==2)))\n",
    "ax.scatter(PC_normal[y_cat==0,0], PC_normal[y_cat==0,1], PC_normal[y_cat==0,2], edgecolors='b', s=80, facecolors='none', linewidths=0.5, label='Class 0')\n",
    "ax.scatter(PC_normal[y_cat==1,0], PC_normal[y_cat==1,1], PC_normal[y_cat==1,2], edgecolors='r', s=20, facecolors='none', linewidths=0.5, label='Class 1')\n",
    "ax.scatter(PC_normal[y_cat==2,0], PC_normal[y_cat==2,1], PC_normal[y_cat==2,2], edgecolors='g', s=20, facecolors='none', linewidths=0.5, label='Class 2')\n",
    "\n",
    "plt.show()"
   ]
  },
  {
   "cell_type": "markdown",
   "metadata": {},
   "source": [
    "Seems like the three classes are not well separated (except some outliers) in the PCA feature space. The result might be dissapointing, but nevertheless we still want to see if the highly nonlinear DNN with multi-output architecture captures the nonlinear decision boundary!\n",
    "\n",
    "Since rescaling is recommended for reasons such as making feature space more \"spherical\" instead of \"elliptical\" to speed up the stochastic gradient descent. Therefore we will just work on the normalized PC to avoid using `sklearn.preprocessing` to rescale the data.\n",
    "\n",
    "We are going to look at logistic regression, SVM and finally DNN.\n",
    "\n",
    "\n",
    "Let's split the data into 80% training, 10% validation and 10% testing:"
   ]
  },
  {
   "cell_type": "code",
   "execution_count": 258,
   "metadata": {},
   "outputs": [
    {
     "name": "stdout",
     "output_type": "stream",
     "text": [
      "(156194, 6) (19525, 6) (19524, 6) (156194,) (156194, 3)\n"
     ]
    }
   ],
   "source": [
    "np.random.shuffle(PC_normal) # shuffle along the first axis to de-order the samples\n",
    "#scaler = preprocessing.StandardScaler().fit(x) # standard normal z-scaling\n",
    "#xz = scaler.transform(x) # z-scaling\n",
    "#x_train,x_valid,x_test = x[:ntrain,:], x[ntrain:nvalid,:], x[nvalid:,:] # no scaling\n",
    "#x_train,x_valid,x_test = xz[:ntrain,:], xz[ntrain:nvalid,:], xz[nvalid:,:] # z scaling\n",
    "def split_train_valid_test(x,proportion=[0.8,0.9]):\n",
    "    ntrain = round(proportion[0]*x.shape[0])\n",
    "    nvalid = round(proportion[1]*x.shape[0])\n",
    "    return x[:ntrain], x[ntrain:nvalid], x[nvalid:] \n",
    "x_train,x_valid,x_test             = split_train_valid_test(PC_normal,[0.8,0.9])\n",
    "y_num_train,y_num_valid,y_num_test = split_train_valid_test(y_num,[0.8,0.9])\n",
    "y_cat_train,y_cat_valid,y_cat_test = split_train_valid_test(y_catx,[0.8,0.9])\n",
    "print(x_train.shape,x_valid.shape,x_test.shape,y_num_train.shape,y_cat_train.shape)"
   ]
  },
  {
   "cell_type": "markdown",
   "metadata": {},
   "source": [
    "# Train Models"
   ]
  },
  {
   "cell_type": "markdown",
   "metadata": {},
   "source": [
    "### Multi-linear Regression"
   ]
  },
  {
   "cell_type": "code",
   "execution_count": 143,
   "metadata": {},
   "outputs": [
    {
     "name": "stdout",
     "output_type": "stream",
     "text": [
      "Mean squared error = 106.87448226171418\n"
     ]
    }
   ],
   "source": [
    "reg = LinearRegression().fit(x_train,y_train)\n",
    "reg.score(x_train,y_train)\n",
    "y_pred_linreg = reg.predict(x_test[:prediction_samp])\n",
    "print('Mean squared error = %s'%str(mean_squared_error(y_test[:prediction_samp],y_pred_linreg)))"
   ]
  },
  {
   "cell_type": "markdown",
   "metadata": {},
   "source": [
    "### Logistict Regression\n",
    "Let's start with logistic regression:"
   ]
  },
  {
   "cell_type": "code",
   "execution_count": 48,
   "metadata": {},
   "outputs": [
    {
     "name": "stdout",
     "output_type": "stream",
     "text": [
      "first two actual classes = [1 1]\n",
      "first two predicted classes = [1 1]\n",
      "first two predicted probalities [0 vs 1] = [[0.26305848 0.73694152]\n",
      " [0.26305847 0.73694153]]\n",
      "              precision    recall  f1-score   support\n",
      "\n",
      "     class 0       0.00      0.00      0.00      5150\n",
      "     class 1       0.73      1.00      0.85     14239\n",
      "\n",
      "   micro avg       0.73      0.73      0.73     19389\n",
      "   macro avg       0.37      0.50      0.42     19389\n",
      "weighted avg       0.54      0.73      0.62     19389\n",
      "\n"
     ]
    },
    {
     "name": "stderr",
     "output_type": "stream",
     "text": [
      "/usr/local/lib/python3.5/site-packages/sklearn/metrics/classification.py:1143: UndefinedMetricWarning: Precision and F-score are ill-defined and being set to 0.0 in labels with no predicted samples.\n",
      "  'precision', 'predicted', average, warn_for)\n"
     ]
    }
   ],
   "source": [
    "logreg = LogisticRegression(C=1e5, solver='lbfgs').fit(x_train,y_train) # multinomial uses cross entropy \n",
    "y_pred_lr = logreg.predict(x_test)\n",
    "y_predp_lr = logreg.predict_proba(x_test)\n",
    "print(classification_report(y_test,y_pred_lr,target_names=['class 0','class 1'])) # support is just the # of samples detected or used\n",
    "# X = [n_samples, n_features], y = [n_samples]\n",
    "# C = Inverse of regularization strength; must be a positive float. \n",
    "#     Like in support vector machines, smaller values specify stronger regularization.\n",
    "# solver = 'sag': stochastic average gradient descent\n",
    "#        = 'lbfgs': some Newton method\n",
    "print('first two actual classes = %s'%str(y_test[:2]))\n",
    "print('first two predicted classes = %s'%str(logreg.predict(x_test[:2,:]))) # predict class vs real class\n",
    "print('first two predicted probalities [0 vs 1] = %s'%str(logreg.predict_proba(x_test[:2,:]))) # predict\n",
    "# print('score = %s'%str(logreg.score(x_test,y_test))) # Score is the ratio of correctly predicted (TP+TN) samples."
   ]
  },
  {
   "cell_type": "markdown",
   "metadata": {},
   "source": [
    "### SVM\n",
    "SVM with kernel computes the distance between every training points which is super expensive O($n_\\text{features} \\times n_\\text{observations}^2$), so reduce the training samples to <100000, and don't do parameter grid search:"
   ]
  },
  {
   "cell_type": "code",
   "execution_count": 49,
   "metadata": {},
   "outputs": [
    {
     "data": {
      "text/plain": [
       "SVC(C=1.0, cache_size=200, class_weight=None, coef0=0.0,\n",
       "  decision_function_shape='ovr', degree=3, gamma='auto', kernel='rbf',\n",
       "  max_iter=-1, probability=False, random_state=None, shrinking=True,\n",
       "  tol=0.001, verbose=False)"
      ]
     },
     "execution_count": 49,
     "metadata": {},
     "output_type": "execute_result"
    }
   ],
   "source": [
    " clf = SVC(gamma='auto') # For non-linear classification use \n",
    "                        # gamma: Kernel coefficient for ‘rbf’, ‘poly’ and ‘sigmoid’. \n",
    "                        # Default is set to 'rbf' which is Radial Basis Function kernel\n",
    "clf.fit(x_train[:50000,:], y_train[:50000])            \n",
    "# let's do a grid search over the C and Gamma parameter space, \n",
    "# C (=1/\\lambda) is a regularization scale , larger (smaller) C gives lower (higher) bias and higher (lower) variance\n",
    "# Gamma (=1/\\sigma) is a scale on kernel \"width/variance\", larger (smaller) Gamma gives lower (higher) bias and higher (lower) variance\n",
    "# go to https://github.com/ginochen/ML_notes to learn more about these two parameters   \n",
    "# The kernel trick is super expensive since it computes distance between each point!!\n",
    "# see solution https://datascience.stackexchange.com/questions/989/svm-using-scikit-learn-runs-endlessly-and-never-completes-execution\n",
    "#C_range = np.logspace(-2, 10, 3) # linear spaced between log10scale -2 to 10, and returns 10 based exponents of 10^-2, ...1\n",
    "#gamma_range = np.logspace(-9, 3, 3) \n",
    "#param_grid = dict(gamma=gamma_range, C=C_range) \n",
    "#cv = StratifiedShuffleSplit(n_splits=5, test_size=0.2, random_state=42)\n",
    "#grid = GridSearchCV(SVC(), param_grid=param_grid, cv=cv)\n",
    "#grid.fit(x_train, y_train)\n",
    "\n",
    "#print(\"The best parameters are %s with a score of %0.2f\"\n",
    "#      % (grid.best_params_, grid.best_score_))"
   ]
  },
  {
   "cell_type": "code",
   "execution_count": 50,
   "metadata": {},
   "outputs": [
    {
     "name": "stdout",
     "output_type": "stream",
     "text": [
      "(19389, 3) (19389,) 19389\n"
     ]
    }
   ],
   "source": [
    "y_pred_svc = clf.predict(x_test)\n",
    "print(x_test.shape,y_pred_svc.shape,sum(y_pred_svc))"
   ]
  },
  {
   "cell_type": "code",
   "execution_count": 51,
   "metadata": {},
   "outputs": [
    {
     "name": "stdout",
     "output_type": "stream",
     "text": [
      "              precision    recall  f1-score   support\n",
      "\n",
      "     class 0       0.00      0.00      0.00      5150\n",
      "     class 1       0.73      1.00      0.85     14239\n",
      "\n",
      "   micro avg       0.73      0.73      0.73     19389\n",
      "   macro avg       0.37      0.50      0.42     19389\n",
      "weighted avg       0.54      0.73      0.62     19389\n",
      "\n"
     ]
    },
    {
     "name": "stderr",
     "output_type": "stream",
     "text": [
      "/usr/local/lib/python3.5/site-packages/sklearn/metrics/classification.py:1143: UndefinedMetricWarning: Precision and F-score are ill-defined and being set to 0.0 in labels with no predicted samples.\n",
      "  'precision', 'predicted', average, warn_for)\n"
     ]
    }
   ],
   "source": [
    "print(classification_report(y_test,y_pred_svc,target_names=['class 0','class 1']))"
   ]
  },
  {
   "cell_type": "markdown",
   "metadata": {},
   "source": [
    "### Branched DNN"
   ]
  },
  {
   "cell_type": "code",
   "execution_count": 259,
   "metadata": {
    "scrolled": false
   },
   "outputs": [
    {
     "name": "stdout",
     "output_type": "stream",
     "text": [
      "Epoch 1/10\n",
      "55/55 [==============================] - 92s 2s/step - loss: 324.9181 - num_output_loss: 324.1055 - cat_output_loss: 0.8126 - num_output_acc: 0.0169 - cat_output_acc: 0.5779 - val_loss: 167.5711 - val_num_output_loss: 166.7958 - val_cat_output_loss: 0.7754 - val_num_output_acc: 0.0408 - val_cat_output_acc: 0.5867\n",
      "\n",
      "Epoch 00001: val_loss improved from inf to 167.57114, saving model to .//best_model.h5\n",
      "Epoch 2/10\n",
      "55/55 [==============================] - 2s 34ms/step - loss: 209.5059 - num_output_loss: 208.8175 - cat_output_loss: 0.6883 - num_output_acc: 0.0221 - cat_output_acc: 0.6260 - val_loss: 106.1794 - val_num_output_loss: 105.4768 - val_cat_output_loss: 0.7026 - val_num_output_acc: 0.0612 - val_cat_output_acc: 0.5816\n",
      "\n",
      "Epoch 00002: val_loss improved from 167.57114 to 106.17942, saving model to .//best_model.h5\n",
      "Epoch 3/10\n",
      "55/55 [==============================] - 2s 34ms/step - loss: 193.2730 - num_output_loss: 192.5523 - cat_output_loss: 0.7207 - num_output_acc: 0.0403 - cat_output_acc: 0.4929 - val_loss: 346.4395 - val_num_output_loss: 345.7399 - val_cat_output_loss: 0.6996 - val_num_output_acc: 0.0000e+00 - val_cat_output_acc: 0.5918\n",
      "\n",
      "Epoch 00003: val_loss did not improve from 106.17942\n",
      "Epoch 4/10\n",
      "55/55 [==============================] - 2s 35ms/step - loss: 205.8352 - num_output_loss: 205.1453 - cat_output_loss: 0.6899 - num_output_acc: 0.0364 - cat_output_acc: 0.5487 - val_loss: 191.0984 - val_num_output_loss: 190.4580 - val_cat_output_loss: 0.6404 - val_num_output_acc: 0.0000e+00 - val_cat_output_acc: 0.6888\n",
      "\n",
      "Epoch 00004: val_loss did not improve from 106.17942\n",
      "Epoch 5/10\n",
      "55/55 [==============================] - 2s 34ms/step - loss: 151.7659 - num_output_loss: 151.0880 - cat_output_loss: 0.6779 - num_output_acc: 0.0325 - cat_output_acc: 0.6208 - val_loss: 178.3062 - val_num_output_loss: 177.6295 - val_cat_output_loss: 0.6767 - val_num_output_acc: 0.0000e+00 - val_cat_output_acc: 0.6531\n",
      "\n",
      "Epoch 00005: val_loss did not improve from 106.17942\n",
      "Epoch 6/10\n",
      "55/55 [==============================] - 2s 36ms/step - loss: 173.9011 - num_output_loss: 173.2219 - cat_output_loss: 0.6792 - num_output_acc: 0.0364 - cat_output_acc: 0.6058 - val_loss: 89.3755 - val_num_output_loss: 88.6769 - val_cat_output_loss: 0.6986 - val_num_output_acc: 0.0000e+00 - val_cat_output_acc: 0.5561\n",
      "\n",
      "Epoch 00006: val_loss improved from 106.17942 to 89.37551, saving model to .//best_model.h5\n",
      "Epoch 7/10\n",
      "55/55 [==============================] - 2s 34ms/step - loss: 97.0681 - num_output_loss: 96.3671 - cat_output_loss: 0.7010 - num_output_acc: 0.0610 - cat_output_acc: 0.5506 - val_loss: 379.9916 - val_num_output_loss: 379.3124 - val_cat_output_loss: 0.6792 - val_num_output_acc: 0.0459 - val_cat_output_acc: 0.6480\n",
      "\n",
      "Epoch 00007: val_loss did not improve from 89.37551\n",
      "Epoch 8/10\n",
      "55/55 [==============================] - 2s 37ms/step - loss: 110.8798 - num_output_loss: 110.2075 - cat_output_loss: 0.6723 - num_output_acc: 0.0422 - cat_output_acc: 0.6026 - val_loss: 108.1743 - val_num_output_loss: 107.4413 - val_cat_output_loss: 0.7331 - val_num_output_acc: 0.0918 - val_cat_output_acc: 0.4898\n",
      "\n",
      "Epoch 00008: val_loss did not improve from 89.37551\n",
      "Epoch 9/10\n",
      "55/55 [==============================] - 2s 34ms/step - loss: 115.3359 - num_output_loss: 114.6344 - cat_output_loss: 0.7015 - num_output_acc: 0.0461 - cat_output_acc: 0.5643 - val_loss: 61.0047 - val_num_output_loss: 60.3275 - val_cat_output_loss: 0.6772 - val_num_output_acc: 0.0765 - val_cat_output_acc: 0.5969\n",
      "\n",
      "Epoch 00009: val_loss improved from 89.37551 to 61.00471, saving model to .//best_model.h5\n",
      "Epoch 10/10\n",
      "55/55 [==============================] - 2s 34ms/step - loss: 151.9612 - num_output_loss: 151.2760 - cat_output_loss: 0.6852 - num_output_acc: 0.0344 - cat_output_acc: 0.5994 - val_loss: 201.0056 - val_num_output_loss: 200.2907 - val_cat_output_loss: 0.7149 - val_num_output_acc: 0.0000e+00 - val_cat_output_acc: 0.5357\n",
      "\n",
      "Epoch 00010: val_loss did not improve from 61.00471\n"
     ]
    },
    {
     "ename": "AttributeError",
     "evalue": "'list' object has no attribute 'reshape'",
     "output_type": "error",
     "traceback": [
      "\u001b[0;31m---------------------------------------------------------------------------\u001b[0m",
      "\u001b[0;31mAttributeError\u001b[0m                            Traceback (most recent call last)",
      "\u001b[0;32m<ipython-input-259-3d0d040fbfeb>\u001b[0m in \u001b[0;36m<module>\u001b[0;34m()\u001b[0m\n\u001b[1;32m     97\u001b[0m                 callbacks=checkpointer,shuffle=True,initial_epoch=last_epoch,verbose=1)\n\u001b[1;32m     98\u001b[0m \u001b[0;31m#model = keras.models.load_model('./best_model.h5')\u001b[0m\u001b[0;34m\u001b[0m\u001b[0;34m\u001b[0m\u001b[0m\n\u001b[0;32m---> 99\u001b[0;31m \u001b[0my_pred_dnn\u001b[0m \u001b[0;34m=\u001b[0m \u001b[0mmodel\u001b[0m\u001b[0;34m.\u001b[0m\u001b[0mpredict_on_batch\u001b[0m\u001b[0;34m(\u001b[0m\u001b[0mx_test\u001b[0m\u001b[0;34m[\u001b[0m\u001b[0;34m:\u001b[0m\u001b[0mprediction_samp\u001b[0m\u001b[0;34m,\u001b[0m\u001b[0;34m:\u001b[0m\u001b[0;34m]\u001b[0m\u001b[0;34m)\u001b[0m\u001b[0;34m.\u001b[0m\u001b[0mreshape\u001b[0m\u001b[0;34m(\u001b[0m\u001b[0;34m-\u001b[0m\u001b[0;36m1\u001b[0m\u001b[0;34m,\u001b[0m\u001b[0;36m1\u001b[0m\u001b[0;34m)\u001b[0m \u001b[0;31m# predict on a single batch\u001b[0m\u001b[0;34m\u001b[0m\u001b[0m\n\u001b[0m\u001b[1;32m    100\u001b[0m \u001b[0my_true_dnn\u001b[0m \u001b[0;34m=\u001b[0m \u001b[0my_test\u001b[0m\u001b[0;34m[\u001b[0m\u001b[0;34m:\u001b[0m\u001b[0mprediction_samp\u001b[0m\u001b[0;34m]\u001b[0m\u001b[0;34m.\u001b[0m\u001b[0mreshape\u001b[0m\u001b[0;34m(\u001b[0m\u001b[0;34m-\u001b[0m\u001b[0;36m1\u001b[0m\u001b[0;34m,\u001b[0m\u001b[0;36m1\u001b[0m\u001b[0;34m)\u001b[0m\u001b[0;34m\u001b[0m\u001b[0m\n",
      "\u001b[0;31mAttributeError\u001b[0m: 'list' object has no attribute 'reshape'"
     ]
    }
   ],
   "source": [
    "import tensorflow as tf\n",
    "import keras\n",
    "from keras.models import Sequential\n",
    "from keras.optimizers import Adam\n",
    "from keras.layers import Model, Input, Dense, Dropout, Activation, LeakyReLU, BatchNormalization\n",
    "from keras.callbacks import EarlyStopping, ModelCheckpoint\n",
    "from sklearn.preprocessing import LabelBinarizer\n",
    "\n",
    "class KerasBatchGenerator(object):\n",
    "    def __init__(self,x,y_num,y_cat,batchsize,ndim,nsteps,skip_steps):\n",
    "        self.x=x\n",
    "        self.y_num=y_num\n",
    "        self.y_cat=y_cat\n",
    "        self.batchsize=batchsize\n",
    "        self.istart=0\n",
    "        self.nsteps=nsteps\n",
    "        self.skip_steps = skip_steps\n",
    "        self.ndim = ndim\n",
    "    def generate(self):\n",
    "        x = np.zeros((self.nsteps, self.ndim))            \n",
    "        y_num = np.zeros((self.nsteps, 1))\n",
    "        y_cat = np.zeros((self.nsteps, 3))\n",
    "        while True:\n",
    "            for i in range(self.batchsize):\n",
    "                x, y_num, y_cat = self.x[self.istart:self.istart+self.nsteps,:], \\\n",
    "                    self.y_num[self.istart:self.istart+self.nsteps], \\\n",
    "                    self.y_cat[self.istart:self.istart+self.nsteps,:]\n",
    "                self.istart += self.skip_steps             \n",
    "                yield x, {'num_output': y_num, 'cat_output': y_cat} # yield returns a set of x,y values for model.fit_generator to perform batch training\n",
    "        \n",
    "\n",
    "class branched_dnn(object):\n",
    "    def __init__(self,fpath):                      \n",
    "        self.file = fpath+'/best_model.h5'                          \n",
    "    @staticmethod\n",
    "    def build_model(fpath,ndim,nepochs=50,hdim=100,hlayers=20,dropoutrate=0.2,learning_rate=0.001):\n",
    "        inputShape = (ndim,) # does not include the mini-batch/batchsize samples axis\n",
    "        inputs = Input(shape=inputShape)\n",
    "        numericBranch  = branched_dnn(fpath).build_branch_model(inputs, \\\n",
    "                         finalAct='relu',name='num_output',nout=1,nin=ndim,hdim=hdim, \\\n",
    "                         hlayers=hlayers,dropoutRate=dropoutRate)\n",
    "        categoryBranch = branched_dnn(fpath).build_branch_model(inputs, \\\n",
    "                         finalAct='softmax',name='cat_output',nout=3,nin=ndim,hdim=hdim, \\\n",
    "                         hlayers=hlayers,dropoutRate=dropoutRate)\n",
    "        model = Model(inputs=inputs, outputs=[numericBranch, categoryBranch],name=\"branchednet\")\n",
    "        losses = {\"num_output\": \"mean_squared_error\", \"cat_output\": \"categorical_crossentropy\"}\n",
    "        lossWeights = {\"num_output\": 1.0, \"cat_output\": 1.0}\n",
    "        opt = Adam(lr=learning_rate, decay=learning_rate/nepochs) # with learning rate decay\n",
    "        model.compile(optimizer=opt, loss=losses, loss_weights = lossWeights, metrics=[\"accuracy\"])\n",
    "        # checkpointer = keras.callbacks.ModelCheckpoint(filepath=datapath + '/model-{epoch:02d}.hdf5', verbose=1)\n",
    "        checkpointer = [EarlyStopping(monitor='val_loss', patience=20), # patience: wait for at least 5 epochs before early stopping\n",
    "        ModelCheckpoint(filepath=branched_dnn(fpath).file, monitor='val_loss', save_best_only=True, verbose=1)]\n",
    "        # model.summary()\n",
    "        return model, checkpointer\n",
    "    def build_branch_model(self,x,finalAct=None,name=None,nout=None,nin=None,hdim=100,hlayers=20,dropoutRate=20):\n",
    "        '''\n",
    "        finalAct: 'softmax','sigmoid' for categorical, 'linear' or 'relu' for numerical\n",
    "        name: just name the branches as you wish, e.g., 'category_output', 'numeric_output'\n",
    "        '''\n",
    "        #model = Sequential()\n",
    "        x = Dense(hdim, input_dim=nin, kernel_initializer='glorot_normal')(x)\n",
    "        BatchNormalization()\n",
    "        x = Activation('relu')(x)\n",
    "        for _ in range(hlayers-1):\n",
    "            x = Dropout(dropoutRate)(x)\n",
    "            #model.add(Dense(hdim, kernel_initializer='glorot_normal', activation='relu')) \n",
    "            x = Dense(hdim, kernel_initializer='glorot_normal')(x) \n",
    "            BatchNormalization()\n",
    "            x = Activation('relu')(x)\n",
    "            #model.add(Dense(1,kernel_initializer='glorot_normal', activation='sigmoid')) # determine the probability of anomaly \n",
    "            #model.add(LeakyReLU(alpha=0.3)) # f(x) = 0.3*x, 0.3 is a small gradient\n",
    "        x = Dense(nout,kernel_initializer='glorot_normal')(x) # determine the number\n",
    "        BatchNormalization()\n",
    "        x = Activation(finalAct,name=name)(x)\n",
    "        return x\n",
    "    \n",
    "# Define model parameters\n",
    "fpath = './'\n",
    "batchsize = 100 # number of mini-batches per epoch\n",
    "nsteps = 28 # number of samples in each mini-batch\n",
    "ndim = x_train.shape[1]  # feature dimensions\n",
    "hdim = 100 # hidden layer dimensions\n",
    "hlayers= 20 # hidden layers\n",
    "last_epoch = 0 # set to 0 for new model training\n",
    "nepochs=10\n",
    "dropoutRate = 0.5\n",
    "learningRate=0.001\n",
    "prediction_samp = 10000\n",
    "ntrain = x_train.shape[0]\n",
    "nvalid = x_valid.shape[0]\n",
    "\n",
    "# initialize training and validation mini-batch data generator\n",
    "train_gen = KerasBatchGenerator(x_train,y_num_train,y_cat_train, \n",
    "                          batchsize, ndim, nsteps, skip_steps=nsteps)\n",
    "valid_gen = KerasBatchGenerator(x_valid,y_num_valid,y_cat_valid, \n",
    "                          batchsize, ndim, nsteps, skip_steps=nsteps)\n",
    "#test_gen  = KerasBatchGenerator(np.concatenate((x_test,y_test.reshape(-1,1)),axis=1), \n",
    "#                          10, ndim, 1000, skip_steps=nsteps)\n",
    "model, checkpointer  = branched_dnn(fpath).build_model(fpath,ndim,nepochs=nepochs,hdim=hdim,hlayers=hlayers,\n",
    "                                   dropoutrate=dropoutRate,learning_rate=learningRate)\n",
    "model.fit_generator(train_gen.generate(), ntrain//(batchsize*nsteps), epochs=last_epoch+nepochs,\n",
    "                validation_data = valid_gen.generate(), validation_steps=math.ceil(nvalid/(batchsize*nsteps)),\n",
    "                callbacks=checkpointer,shuffle=True,initial_epoch=last_epoch,verbose=1)\n",
    "#model = keras.models.load_model('./best_model.h5')\n",
    "y_pred_dnn = model.predict_on_batch(x_test[:prediction_samp,:]) # predict on a single batch\n",
    "y_true_dnn = y_test[:prediction_samp].reshape(-1,1)"
   ]
  },
  {
   "cell_type": "code",
   "execution_count": 293,
   "metadata": {},
   "outputs": [
    {
     "data": {
      "text/plain": [
       "0.0014229049"
      ]
     },
     "execution_count": 293,
     "metadata": {},
     "output_type": "execute_result"
    }
   ],
   "source": [
    "y_pred_dnn = model.predict_on_batch(x_test[:prediction_samp,:]) # predict on a single batch\n",
    "y_cat_true_dnn = y_cat_test[:prediction_samp,:]\n",
    "y_num_true_dnn = y_num_test[:prediction_samp]"
   ]
  },
  {
   "cell_type": "code",
   "execution_count": 305,
   "metadata": {},
   "outputs": [
    {
     "name": "stdout",
     "output_type": "stream",
     "text": [
      "MSE = 38.37481251956769\n",
      "Categorical cross entropy = 0.7322028570563812 = average targeted probability of 48%!\n"
     ]
    }
   ],
   "source": [
    "def cat_crossentropy(y_true,y_pred):\n",
    "    entropy=0\n",
    "    for i in range(y_true.shape[0]):\n",
    "        entropy -= math.log(y_pred[i,y_true[i]==1]) # y_true: 0,1,2 are also the column index of y_pred\n",
    "    return entropy/y_true.shape[0]\n",
    "print('MSE = %s'%str(mean_squared_error(y_pred_dnn[0],y_num_true_dnn)))\n",
    "cce = cat_crossentropy(y_cat_true_dnn,y_pred_dnn[1])\n",
    "print('Categorical cross entropy = %s = average targeted probability of %s%%!'%(str(cce),str(round(math.exp(-cce)*100))))"
   ]
  },
  {
   "cell_type": "code",
   "execution_count": 149,
   "metadata": {},
   "outputs": [
    {
     "name": "stdout",
     "output_type": "stream",
     "text": [
      "Mean squared error = 63.01633416125479\n"
     ]
    }
   ],
   "source": [
    "print('Mean squared error = %s'%str(mean_squared_error(y_true_dnn,y_pred_dnn)))\n",
    "#print(y_true_dnn.shape)\n",
    "#plt.scatter(y_true_dnn,y_pred_dnn)\n",
    "#plt.show()\n",
    "#plt.hist(y_true_dnn)\n",
    "#plt.hist(y_pred_dnn,10)\n",
    "#print(y_pred_dnn)\n",
    "#y_pred_dnn = y_preddnn>=0.5\n",
    "#print(classification_report(y_true_dnn,y_pred_dnn,target_names=['class 0','class 1']))"
   ]
  },
  {
   "cell_type": "markdown",
   "metadata": {},
   "source": [
    "# Reference\n",
    "* [Endless run of kernel SVM](https://datascience.stackexchange.com/questions/989/svm-using-scikit-learn-runs-endlessly-and-never-completes-execution)\n",
    "* [mathematical formulation of SVC](https://scikit-learn.org/stable/modules/svm.html)\n",
    "* [argparse](https://www.pyimagesearch.com/2018/03/12/python-argparse-command-line-arguments/)"
   ]
  },
  {
   "cell_type": "code",
   "execution_count": null,
   "metadata": {},
   "outputs": [],
   "source": []
  }
 ],
 "metadata": {
  "kernelspec": {
   "display_name": "Python 3",
   "language": "python",
   "name": "python3"
  },
  "language_info": {
   "codemirror_mode": {
    "name": "ipython",
    "version": 3
   },
   "file_extension": ".py",
   "mimetype": "text/x-python",
   "name": "python",
   "nbconvert_exporter": "python",
   "pygments_lexer": "ipython3",
   "version": "3.5.0"
  }
 },
 "nbformat": 4,
 "nbformat_minor": 2
}
