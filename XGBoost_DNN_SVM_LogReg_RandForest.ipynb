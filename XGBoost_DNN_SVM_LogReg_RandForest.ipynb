{
 "cells": [
  {
   "cell_type": "markdown",
   "metadata": {},
   "source": [
    "# Two-branched DNN Car Reservation Prediction \n",
    "\n",
    "# Overview\n",
    "Our goal is to predict the number of reservations of vehicles (number of unique reservations per vehicle (non-negative numeric) and reservation type (categorical)) using six input features. The two output variables makes this a multi-output problem. We have several options to build a multi-output deep neural network: (1) Create an output layer using sigmoid with a single loss \"MSE\" for the categorical and the scaled numeric variable (between -1 and 1), or even better (2) create a 2-branched DNN with an independent sigmoid output layer for the categorical output with cross-entropy loss, and a ReLU linear regression output layer for the non-negative numeric variable with MSE loss.\n",
    "\n",
    "Benchmark ML approaches using a multi-feature linear regression model and SVM (for numeric output), and a logistic regression (for categorical output) will be developed to compare with the 2-branched DNN.\n",
    "\n",
    "# Background\n",
    "\n",
    "My math notebooks ([support vector machine](https://github.com/ginochen/ML_notes/blob/master/support_vector_machine.ipynb), [logistic regression](https://github.com/ginochen/ML_notes/blob/master/logistic_regression_cross_entropy.ipynb), [stochastic gradient descent](https://github.com/ginochen/ML_notes/blob/master/stochastic_gradient_descent.ipynb)) for the ML tools used in this project serve as reminders of what's really happening algorithmically in the python packages.\n",
    "\n",
    "\n",
    "\n",
    "# Data \n",
    "Due to confidentiality issues of the data, let's import, clean and PCA transform the feature space. The PCA also serve as a normalizer which makes training converge faster for SVM."
   ]
  },
  {
   "cell_type": "code",
   "execution_count": 1,
   "metadata": {},
   "outputs": [
    {
     "name": "stderr",
     "output_type": "stream",
     "text": [
      "Using TensorFlow backend.\n"
     ]
    }
   ],
   "source": [
    "# as before load all lib here\n",
    "import pandas as pd\n",
    "import numpy as np\n",
    "import math\n",
    "from sklearn.metrics.pairwise import cosine_similarity\n",
    "from sklearn.decomposition import PCA\n",
    "from sklearn.linear_model import LinearRegression, LogisticRegression # logistic regression function p(x) = 1/(1+e^{b^T*x}), logit(p) = b^T*x\n",
    "from sklearn.metrics import precision_recall_fscore_support, mean_squared_error\n",
    "from sklearn.metrics import classification_report\n",
    "from sklearn.svm import SVC\n",
    "from sklearn.model_selection import StratifiedShuffleSplit\n",
    "from sklearn.model_selection import GridSearchCV\n",
    "from sklearn import preprocessing\n",
    "from sklearn.utils import shuffle\n",
    "\n",
    "import tensorflow as tf\n",
    "import keras\n",
    "from keras.models import Sequential\n",
    "from keras.layers import Input, Dense, Dropout, LSTM, TimeDistributed, Activation, LeakyReLU, BatchNormalization\n",
    "from keras.callbacks import EarlyStopping, ModelCheckpoint\n",
    "\n",
    "from mpl_toolkits.mplot3d import Axes3D\n",
    "import matplotlib.pyplot as plt\n"
   ]
  },
  {
   "cell_type": "code",
   "execution_count": 2,
   "metadata": {},
   "outputs": [],
   "source": [
    "import numpy as np\n",
    "class measures():\n",
    "    def __init__(self,y):\n",
    "        self.y = y\n",
    "    def mad(self): # median_absolute_deviation, measures the variability of a 1-D data\n",
    "        return np.median(np.absolute(self.y - np.median(self.y))) # MAD\n",
    "    @staticmethod\n",
    "    def mse(y,z): # no need to load sklearn, just use this like a regular function, data_measures.mean_squared_error(np.array([3,5,7]),np.array([1,3,4]))\n",
    "        return np.mean((y - z)**2) # mean_squared_error\n",
    "        "
   ]
  },
  {
   "cell_type": "code",
   "execution_count": 3,
   "metadata": {},
   "outputs": [],
   "source": [
    "prediction_samp=10000"
   ]
  },
  {
   "cell_type": "code",
   "execution_count": 4,
   "metadata": {},
   "outputs": [],
   "source": [
    "df_vehicles = pd.read_csv('./vehicles.csv')\n",
    "df_reservations = pd.read_csv('./reservations.csv')"
   ]
  },
  {
   "cell_type": "code",
   "execution_count": 5,
   "metadata": {},
   "outputs": [],
   "source": [
    "#print('VEHICLES\\n =============================================== \\n',df_vehicles.head(4))\n",
    "#print('\\nRESERVATIONS\\n ========================================== \\n',df_reservations.head(4))"
   ]
  },
  {
   "cell_type": "code",
   "execution_count": 6,
   "metadata": {
    "scrolled": false
   },
   "outputs": [
    {
     "name": "stdout",
     "output_type": "stream",
     "text": [
      "   vehicle_id  reservation_id  reservation_type  is_delivery  actual_price  \\\n",
      "0      238780       2677903.0               2.0            0           121   \n",
      "1      238780       3187363.0               2.0            0           121   \n",
      "2      309795       2752124.0               2.0            1            61   \n",
      "3      309795       2731316.0               2.0            1            61   \n",
      "4      309795       3119198.0               1.0            1            61   \n",
      "\n",
      "   recommended_price  num_images  description_length  is_recent_model  \\\n",
      "0                 48           9                   0                0   \n",
      "1                 48           9                   0                0   \n",
      "2                 66          12                   0                0   \n",
      "3                 66          12                   0                0   \n",
      "4                 66          12                   0                0   \n",
      "\n",
      "   n_reserve  \n",
      "0          2  \n",
      "1          2  \n",
      "2         11  \n",
      "3         11  \n",
      "4         11  \n"
     ]
    }
   ],
   "source": [
    "df = pd.merge(df_reservations,df_vehicles, how='inner', on='vehicle_id') # join on intersection on vehicle_id\n",
    "tmp = df.groupby('vehicle_id').reservation_id.nunique().to_frame()\n",
    "tmp.columns = [\"n_reserve\"] # rename the column to number of reservations for each unique vehicle ID\n",
    "df = pd.merge(df,tmp,how='inner',on='vehicle_id')\n",
    "#drop_duplicates() \n",
    "print(df.iloc[:5,:])"
   ]
  },
  {
   "cell_type": "code",
   "execution_count": 7,
   "metadata": {},
   "outputs": [
    {
     "name": "stdout",
     "output_type": "stream",
     "text": [
      "(samples, features) = (195243, 10)\n",
      "max description length = 7780\n"
     ]
    }
   ],
   "source": [
    "print('(samples, features) = %s'%str(df.shape))\n",
    "print('max description length = %s'%str(df.description_length.max()))"
   ]
  },
  {
   "cell_type": "markdown",
   "metadata": {},
   "source": [
    "Let's checkout the feature space characteristics! Instead of using all 6 dim, which is hard to visualize, let's just look at the top 3 principle axes feature space:"
   ]
  },
  {
   "cell_type": "code",
   "execution_count": 8,
   "metadata": {},
   "outputs": [
    {
     "name": "stdout",
     "output_type": "stream",
     "text": [
      "x = \n",
      "is_delivery             0.0\n",
      "actual_price          121.0\n",
      "recommended_price      48.0\n",
      "num_images              9.0\n",
      "description_length      0.0\n",
      "is_recent_model         0.0\n",
      "Name: 0, dtype: float64\n",
      "\n",
      "y_num: \n",
      "number of reservation = [ 2  2 11 ...  0  0  0] \n",
      "\n",
      "y_cat: \n",
      "reservation_type = {0.0, 1.0, 2.0}\n",
      "\n",
      "y_catx: reservation_type binarized = [[0 0 1]\n",
      " [0 0 1]]\n"
     ]
    }
   ],
   "source": [
    "nrows = df.shape[0]\n",
    "#df = df.dropna(axis=0) # drop NaNs\n",
    "#x = df.iloc[:, [2,4,5,8]].values\n",
    "x = df.iloc[:, range(3,9)].values # skip is_delivery since it's the tag\n",
    "print('x = \\n%s'%str(df.iloc[0,range(3,9)]))\n",
    "y_num = df['n_reserve'].values # the tag to color mark on projected features\n",
    "y_cat = df['reservation_type'].values\n",
    "y_cat[np.isnan(y_cat)]=0\n",
    "lb = preprocessing.LabelBinarizer()\n",
    "y_catx = lb.fit_transform(y_cat) # binarizer transformed y_cat into [nsamples,n_cats] matrix\n",
    "print('\\ny_num: \\nnumber of reservation = %s \\n\\ny_cat: \\nreservation_type = %s'%(str(y_num),str(set(y_cat))))\n",
    "print('\\ny_catx: reservation_type binarized = %s'%str(y_catx[:2,:]))"
   ]
  },
  {
   "cell_type": "markdown",
   "metadata": {},
   "source": [
    "Let's split the reservation number into two classes (reservation_type= {0,1}, {2}), and get a first look at how similar the classes are using cosine similarity function. Note that cosine similarity results are similar if we changed the class to using n_reservation with any threshold (e.g., threhold=15):"
   ]
  },
  {
   "cell_type": "code",
   "execution_count": 9,
   "metadata": {},
   "outputs": [],
   "source": [
    "def average_cosine_similarity(x,y,nsamp):\n",
    "    '''\n",
    "    x:  feature matrix [n_samples, n_features]\n",
    "    y:  class vector   [n_samples]\n",
    "    nsamp: number of samples to compute cosine similarity\n",
    "    '''\n",
    "    x1 = x[y==1,:] # class 1 feature data\n",
    "    x0 = x[y==0,:] # class 0 feature data\n",
    "    if nsamp>x1.shape[0] | nsamp>x0.shape[0]:\n",
    "        nsamp = min(x1.shape[0],x0.shape[0])\n",
    "        print('Use the lesser samples  = %s'%str(nsamp))\n",
    "    cs01 = cosine_similarity(x1[:nsamp,:],x0[:nsamp,:]) # computes cosine simlilarity between all pairwise samples in x1 and x0\n",
    "    #ed01 = np.linalg.norm(x1[:nsamp,:]-x0[:nsamp,:])\n",
    "    plt.hist(cs01.reshape(-1,1),100); plt.show()\n",
    "    \n",
    "    print('The average cosine similarity = %s'%str(np.mean(cs01.reshape(-1,1))))\n",
    "    print('The median cosine similarity = %s'%str(np.median(cs01.reshape(-1,1))))"
   ]
  },
  {
   "cell_type": "code",
   "execution_count": 10,
   "metadata": {},
   "outputs": [
    {
     "data": {
      "image/png": "[encoded data removed]",
      "text/plain": [
       "<Figure size 432x288 with 1 Axes>"
      ]
     },
     "metadata": {},
     "output_type": "display_data"
    },
    {
     "name": "stdout",
     "output_type": "stream",
     "text": [
      "The average cosine similarity = 0.7817874561749854\n",
      "The median cosine similarity = 0.9784254425331133\n"
     ]
    }
   ],
   "source": [
    "thres = 1\n",
    "average_cosine_similarity(x,y_cat>thres,10000)\n",
    "#np.linalg.norm(a-b) maybe do pairwise distance?"
   ]
  },
  {
   "cell_type": "markdown",
   "metadata": {},
   "source": [
    "The cosine similarity distribution is extremely skewed with very high median near 1, i.e., very similar sample features. And the average cosine similarity between the two classes are very high, meaning they are hard to separate in feature space.\n",
    "\n",
    "Let's see if doing PCA transform can help separate the two sample classes:"
   ]
  },
  {
   "cell_type": "code",
   "execution_count": 11,
   "metadata": {},
   "outputs": [
    {
     "data": {
      "text/plain": [
       "PCA(copy=True, iterated_power='auto', n_components=6, random_state=None,\n",
       "  svd_solver='auto', tol=0.0, whiten=False)"
      ]
     },
     "execution_count": 11,
     "metadata": {},
     "output_type": "execute_result"
    }
   ],
   "source": [
    "pca = PCA(n_components=x.shape[1]) # use all \n",
    "pca.fit(x)"
   ]
  },
  {
   "cell_type": "code",
   "execution_count": 12,
   "metadata": {},
   "outputs": [
    {
     "name": "stdout",
     "output_type": "stream",
     "text": [
      "[2.36941876e+05 3.17776567e+04 8.00781480e+03 2.23030351e+03\n",
      " 2.05296110e+02 1.88772658e+02]\n"
     ]
    }
   ],
   "source": [
    "s = pca.singular_values_\n",
    "print(s)  # just the eigenvalues of the PC direction vectors, also the stdev of the PCs"
   ]
  },
  {
   "cell_type": "code",
   "execution_count": 13,
   "metadata": {},
   "outputs": [
    {
     "name": "stdout",
     "output_type": "stream",
     "text": [
      "[9.81143164e-01 1.76478773e-02 1.12066750e-03 8.69313996e-05\n",
      " 7.36563472e-07 6.22768905e-07]\n"
     ]
    }
   ],
   "source": [
    "print(pca.explained_variance_ratio_) # ([i/sum(pca.singular_values_**2) for i in pca.singular_values_**2])"
   ]
  },
  {
   "cell_type": "markdown",
   "metadata": {},
   "source": [
    "The sigular values are just the PC stdev of the PC axes, and the explained variance are just the component variances (i.e., squared stdev) divide by the total variance. "
   ]
  },
  {
   "cell_type": "code",
   "execution_count": 14,
   "metadata": {},
   "outputs": [
    {
     "data": {
      "image/png": "[encoded data removed]",
      "text/plain": [
       "<Figure size 432x288 with 1 Axes>"
      ]
     },
     "metadata": {},
     "output_type": "display_data"
    },
    {
     "name": "stdout",
     "output_type": "stream",
     "text": [
      "The average cosine similarity = 0.016576570760096356\n",
      "The median cosine similarity = -0.06199151513209082\n"
     ]
    }
   ],
   "source": [
    "P = pca.transform(x) # the projection of all samples on all PC axes, \n",
    "PC_normal = np.asarray([P[:,i]/s[i] for i in range(len(s))]).T # normalized PC: PC divided by sigular values\n",
    "# we can use P = PCA(n_components=2).transform(x)  if we just want the projections on the first 2 components, \n",
    "# this gives the same values as the full transformation, but just trancated \n",
    "average_cosine_similarity(PC_normal,y_cat>1,10000) # computes cosine simlilarity between all pairwise samples in x1 and x0"
   ]
  },
  {
   "cell_type": "markdown",
   "metadata": {},
   "source": [
    "The distribution is much more spreaded over -1 to 1, without high similarity samples. The mean and median consine similarity are very low, which shows that the two classes in PCA feature space are probably more separated."
   ]
  },
  {
   "cell_type": "markdown",
   "metadata": {},
   "source": [
    "Let's see how the projection behaves on the 2 and 3 leading PC axes in a plot:"
   ]
  },
  {
   "cell_type": "code",
   "execution_count": 16,
   "metadata": {},
   "outputs": [
    {
     "name": "stdout",
     "output_type": "stream",
     "text": [
      "Samples: Class 0 (red) = 1355, Class 1 (blue) = 112740, Class 2 (green) = 81148\n"
     ]
    },
    {
     "data": {
      "image/png": "[encoded data removed]",
      "text/plain": [
       "<Figure size 1080x720 with 2 Axes>"
      ]
     },
     "metadata": {},
     "output_type": "display_data"
    }
   ],
   "source": [
    "fig = plt.figure(figsize=(15,10))\n",
    "ax = fig.add_subplot(121, projection='3d')\n",
    "print(\"Samples: Class 0 (red) = %s, Class 1 (blue) = %s, Class 2 (green) = %s\"%(sum(y_cat==0),sum(y_cat==1),sum(y_cat==2)))\n",
    "ax.scatter(PC_normal[y_cat==0,0][:100], PC_normal[y_cat==0,1][:100], PC_normal[y_cat==0,2][:100], edgecolors='b', s=80, facecolors='none', linewidths=0.5, label='Class 0')\n",
    "ax.scatter(PC_normal[y_cat==1,0][:100], PC_normal[y_cat==1,1][:100], PC_normal[y_cat==1,2][:100], edgecolors='r', s=50, facecolors='none', linewidths=0.5, label='Class 1')\n",
    "ax.scatter(PC_normal[y_cat==2,0][:100], PC_normal[y_cat==2,1][:100], PC_normal[y_cat==2,2][:100], edgecolors='g', s=20, facecolors='none', linewidths=0.5, label='Class 2')\n",
    "\n",
    "ax2 = fig.add_subplot(122)\n",
    "ax2.scatter(PC_normal[y_cat==0,0][:100], PC_normal[y_cat==0,1][:100], edgecolors='b', s=80, facecolors='none', linewidths=0.5, label='Class 0')\n",
    "ax2.scatter(PC_normal[y_cat==1,0][:100], PC_normal[y_cat==1,1][:100], edgecolors='r', s=50, facecolors='none', linewidths=0.5, label='Class 1')\n",
    "ax2.scatter(PC_normal[y_cat==2,0][:100], PC_normal[y_cat==2,1][:100], edgecolors='g', s=20, facecolors='none', linewidths=0.5, label='Class 2')\n",
    "plt.show()"
   ]
  },
  {
   "cell_type": "markdown",
   "metadata": {},
   "source": [
    "Seems like the three classes are better separated (except some outliers) in the PCA feature space. We want to see if the highly nonlinear DNN with multi-output architecture captures this nonlinear decision boundary!\n",
    "\n",
    "Since rescaling is recommended for reasons such as making feature space more \"spherical\" instead of \"elliptical\" to speed up the stochastic gradient descent. Therefore we will just work on the normalized PC to avoid using `sklearn.preprocessing` to rescale the data.\n",
    "\n",
    "We are going to look at multi-linear regression (for n_reservation label), softmax regression (for reservation_type label), SVM (for reservation_type label) and finally DNN (for both reservation_type and n_reservation labels).\n",
    "\n",
    "Let's split the data into 80% training, 10% validation and 10% testing:"
   ]
  },
  {
   "cell_type": "code",
   "execution_count": 17,
   "metadata": {},
   "outputs": [
    {
     "name": "stdout",
     "output_type": "stream",
     "text": [
      "(156194, 6) (19525, 6) (19524, 6) (156194,) (156194, 3)\n"
     ]
    }
   ],
   "source": [
    "PC_normal,x,y_num,y_catx = shuffle(PC_normal,x,y_num,y_catx,random_state=0) # shuffle along the first axis to de-order the samples\n",
    "#scaler = preprocessing.StandardScaler().fit(x) # standard normal z-scaling\n",
    "#xz = scaler.transform(x) # z-scaling\n",
    "#x_train,x_valid,x_test = x[:ntrain,:], x[ntrain:nvalid,:], x[nvalid:,:] # no scaling\n",
    "#x_train,x_valid,x_test = xz[:ntrain,:], xz[ntrain:nvalid,:], xz[nvalid:,:] # z scaling\n",
    "def split_train_valid_test(x,proportion=[0.8,0.9]):\n",
    "    ntrain = round(proportion[0]*x.shape[0])\n",
    "    nvalid = round(proportion[1]*x.shape[0])\n",
    "    return x[:ntrain], x[ntrain:nvalid], x[nvalid:] \n",
    "x_train,x_valid,x_test             = split_train_valid_test(PC_normal)\n",
    "y_num_train,y_num_valid,y_num_test = split_train_valid_test(y_num)\n",
    "y_cat_train,y_cat_valid,y_cat_test = split_train_valid_test(y_catx)\n",
    "print(x_train.shape,x_valid.shape,x_test.shape,y_num_train.shape,y_cat_train.shape)"
   ]
  },
  {
   "cell_type": "markdown",
   "metadata": {},
   "source": [
    "# Train Models"
   ]
  },
  {
   "cell_type": "markdown",
   "metadata": {},
   "source": [
    "### Multi-linear Regression"
   ]
  },
  {
   "cell_type": "code",
   "execution_count": 23,
   "metadata": {},
   "outputs": [
    {
     "name": "stdout",
     "output_type": "stream",
     "text": [
      "Mean squared error = 109.80296894023675\n"
     ]
    }
   ],
   "source": [
    "reg = LinearRegression().fit(x_train,y_num_train)\n",
    "reg.score(x_train,y_num_train)\n",
    "y_pred_linreg = reg.predict(x_test[:prediction_samp])\n",
    "print('Mean squared error = %s'%str(mean_squared_error(y_num_test[:prediction_samp],y_pred_linreg)))"
   ]
  },
  {
   "cell_type": "markdown",
   "metadata": {},
   "source": [
    "### Logistict Regression\n",
    "Let's start with logistic regression:"
   ]
  },
  {
   "cell_type": "code",
   "execution_count": 20,
   "metadata": {},
   "outputs": [
    {
     "name": "stdout",
     "output_type": "stream",
     "text": [
      "              precision    recall  f1-score   support\n",
      "\n",
      "     class 0       0.30      0.03      0.05       118\n",
      "     class 1       0.60      0.83      0.70     11246\n",
      "     class 2       0.52      0.26      0.34      8160\n",
      "\n",
      "   micro avg       0.59      0.59      0.59     19524\n",
      "   macro avg       0.47      0.37      0.36     19524\n",
      "weighted avg       0.57      0.59      0.55     19524\n",
      "\n",
      "first two actual classes = [[0 1 0]\n",
      " [0 0 1]]\n",
      "first two predicted classes = [1. 1.]\n",
      "first two predicted probalities [0 vs 1] = [[0.00628397 0.56969451 0.42402151]\n",
      " [0.01023348 0.51516444 0.47460208]]\n"
     ]
    },
    {
     "name": "stderr",
     "output_type": "stream",
     "text": [
      "/usr/local/lib/python3.5/site-packages/sklearn/linear_model/logistic.py:757: ConvergenceWarning: lbfgs failed to converge. Increase the number of iterations.\n",
      "  \"of iterations.\", ConvergenceWarning)\n"
     ]
    }
   ],
   "source": [
    "logreg = LogisticRegression(C=1e5, solver='lbfgs',multi_class='multinomial').fit(x_train,lb.inverse_transform(y_cat_train)) # multinomial uses cross entropy \n",
    "y_pred_lr = logreg.predict(x_test)\n",
    "y_predp_lr = logreg.predict_proba(x_test)\n",
    "print(classification_report(lb.inverse_transform(y_cat_test),y_pred_lr,target_names=['class 0','class 1','class 2'])) # support is just the # of samples detected or used\n",
    "# X = [n_samples, n_features], y = [n_samples]\n",
    "# C = Inverse of regularization strength; must be a positive float. \n",
    "#     Like in support vector machines, smaller values specify stronger regularization.\n",
    "# solver = 'sag': stochastic average gradient descent\n",
    "#        = 'lbfgs': some Newton method\n",
    "print('first two actual classes = %s'%str(y_cat_test[:2]))\n",
    "print('first two predicted classes = %s'%str(logreg.predict(x_test[:2,:]))) # predict class vs real class\n",
    "print('first two predicted probalities [0 vs 1] = %s'%str(logreg.predict_proba(x_test[:2,:]))) # predict\n",
    "# print('score = %s'%str(logreg.score(x_test,y_test))) # Score is the ratio of correctly predicted (TP+TN) samples."
   ]
  },
  {
   "cell_type": "markdown",
   "metadata": {},
   "source": [
    "f1_score is pretty bad..."
   ]
  },
  {
   "cell_type": "markdown",
   "metadata": {},
   "source": [
    "### SVM\n",
    "SVM with kernel computes the distance between every training points which is super expensive O($n_\\text{features} \\times n_\\text{observations}^2$), so reduce the training samples to <100000, and don't do parameter grid search:"
   ]
  },
  {
   "cell_type": "code",
   "execution_count": 21,
   "metadata": {},
   "outputs": [
    {
     "name": "stdout",
     "output_type": "stream",
     "text": [
      "(19524, 6) (19524,) 19524.0\n",
      "              precision    recall  f1-score   support\n",
      "\n",
      "     class 0       0.00      0.00      0.00       118\n",
      "     class 1       0.58      1.00      0.73     11246\n",
      "     class 2       0.00      0.00      0.00      8160\n",
      "\n",
      "   micro avg       0.58      0.58      0.58     19524\n",
      "   macro avg       0.19      0.33      0.24     19524\n",
      "weighted avg       0.33      0.58      0.42     19524\n",
      "\n"
     ]
    },
    {
     "name": "stderr",
     "output_type": "stream",
     "text": [
      "/usr/local/lib/python3.5/site-packages/sklearn/metrics/classification.py:1143: UndefinedMetricWarning: Precision and F-score are ill-defined and being set to 0.0 in labels with no predicted samples.\n",
      "  'precision', 'predicted', average, warn_for)\n"
     ]
    }
   ],
   "source": [
    "clf = SVC(gamma='auto') # For non-linear classification use \n",
    "                        # gamma: Kernel coefficient for ‘rbf’, ‘poly’ and ‘sigmoid’. \n",
    "                        # Default is set to 'rbf' which is Radial Basis Function kernel\n",
    "                        # multiclass uses one-vs-one, very slow...\n",
    "clf.fit(x_train[:50000,:], lb.inverse_transform(y_cat_train[:50000,:]))\n",
    "y_pred_svc = clf.predict(x_test)\n",
    "print(x_test.shape,y_pred_svc.shape,sum(y_pred_svc))\n",
    "print(classification_report(lb.inverse_transform(y_cat_test),y_pred_svc,target_names=['class 0','class 1','class 2']))\n",
    "# let's do a grid search over the C and Gamma parameter space, \n",
    "# C (=1/\\lambda) is a regularization scale , larger (smaller) C gives lower (higher) bias and higher (lower) variance\n",
    "# Gamma (=1/\\sigma) is a scale on kernel \"width/variance\", larger (smaller) Gamma gives lower (higher) bias and higher (lower) variance\n",
    "# go to https://github.com/ginochen/ML_notes to learn more about these two parameters   \n",
    "# The kernel trick is super expensive since it computes distance between each point!!\n",
    "# see solution https://datascience.stackexchange.com/questions/989/svm-using-scikit-learn-runs-endlessly-and-never-completes-execution\n",
    "#C_range = np.logspace(-2, 10, 3) # linear spaced between log10scale -2 to 10, and returns 10 based exponents of 10^-2, ...1\n",
    "#gamma_range = np.logspace(-9, 3, 3) \n",
    "#param_grid = dict(gamma=gamma_range, C=C_range) \n",
    "#cv = StratifiedShuffleSplit(n_splits=5, test_size=0.2, random_state=42)\n",
    "#grid = GridSearchCV(SVC(), param_grid=param_grid, cv=cv)\n",
    "#grid.fit(x_train, y_train)\n",
    "\n",
    "#print(\"The best parameters are %s with a score of %0.2f\"\n",
    "#      % (grid.best_params_, grid.best_score_))"
   ]
  },
  {
   "cell_type": "markdown",
   "metadata": {},
   "source": [
    "SVM is even worse at f1-score..."
   ]
  },
  {
   "cell_type": "markdown",
   "metadata": {},
   "source": [
    "### Branched DNN - Multi-Output and Multi-Loss"
   ]
  },
  {
   "cell_type": "code",
   "execution_count": 24,
   "metadata": {
    "scrolled": false
   },
   "outputs": [
    {
     "name": "stdout",
     "output_type": "stream",
     "text": [
      "Epoch 11/60\n",
      "55/55 [==============================] - 9s 156ms/step - loss: 273.9853 - num_output_loss: 273.1343 - cat_output_loss: 0.8510 - num_output_acc: 0.0338 - cat_output_acc: 0.5286 - val_loss: 257.0929 - val_num_output_loss: 256.3493 - val_cat_output_loss: 0.7436 - val_num_output_acc: 0.0204 - val_cat_output_acc: 0.5306\n",
      "\n",
      "Epoch 00011: val_loss improved from inf to 257.09293, saving model to .//best_model.h5\n",
      "Epoch 12/60\n",
      "55/55 [==============================] - 1s 13ms/step - loss: 166.1701 - num_output_loss: 165.4213 - cat_output_loss: 0.7488 - num_output_acc: 0.0409 - cat_output_acc: 0.5519 - val_loss: 305.4397 - val_num_output_loss: 304.7245 - val_cat_output_loss: 0.7152 - val_num_output_acc: 0.0255 - val_cat_output_acc: 0.5714\n",
      "\n",
      "Epoch 00012: val_loss did not improve from 257.09293\n",
      "Epoch 13/60\n",
      "55/55 [==============================] - 1s 13ms/step - loss: 166.7007 - num_output_loss: 165.9750 - cat_output_loss: 0.7257 - num_output_acc: 0.0429 - cat_output_acc: 0.5669 - val_loss: 199.2277 - val_num_output_loss: 198.5043 - val_cat_output_loss: 0.7235 - val_num_output_acc: 0.0510 - val_cat_output_acc: 0.5867\n",
      "\n",
      "Epoch 00013: val_loss improved from 257.09293 to 199.22771, saving model to .//best_model.h5\n",
      "Epoch 14/60\n",
      "55/55 [==============================] - 1s 18ms/step - loss: 131.5796 - num_output_loss: 130.8552 - cat_output_loss: 0.7244 - num_output_acc: 0.0396 - cat_output_acc: 0.5396 - val_loss: 179.4721 - val_num_output_loss: 178.7506 - val_cat_output_loss: 0.7216 - val_num_output_acc: 0.0357 - val_cat_output_acc: 0.6173\n",
      "\n",
      "Epoch 00014: val_loss improved from 199.22771 to 179.47215, saving model to .//best_model.h5\n",
      "Epoch 15/60\n",
      "55/55 [==============================] - 1s 19ms/step - loss: 134.3893 - num_output_loss: 133.6524 - cat_output_loss: 0.7369 - num_output_acc: 0.0338 - cat_output_acc: 0.5643 - val_loss: 185.4505 - val_num_output_loss: 184.7354 - val_cat_output_loss: 0.7151 - val_num_output_acc: 0.0459 - val_cat_output_acc: 0.5867\n",
      "\n",
      "Epoch 00015: val_loss did not improve from 179.47215\n",
      "Epoch 16/60\n",
      "55/55 [==============================] - 1s 16ms/step - loss: 129.1162 - num_output_loss: 128.3882 - cat_output_loss: 0.7280 - num_output_acc: 0.0455 - cat_output_acc: 0.5636 - val_loss: 136.9399 - val_num_output_loss: 136.2052 - val_cat_output_loss: 0.7347 - val_num_output_acc: 0.0408 - val_cat_output_acc: 0.6173\n",
      "\n",
      "Epoch 00016: val_loss improved from 179.47215 to 136.93992, saving model to .//best_model.h5\n",
      "Epoch 17/60\n",
      "55/55 [==============================] - 1s 16ms/step - loss: 122.7986 - num_output_loss: 122.0655 - cat_output_loss: 0.7331 - num_output_acc: 0.0390 - cat_output_acc: 0.5838 - val_loss: 108.2421 - val_num_output_loss: 107.4944 - val_cat_output_loss: 0.7477 - val_num_output_acc: 0.0306 - val_cat_output_acc: 0.5918\n",
      "\n",
      "Epoch 00017: val_loss improved from 136.93992 to 108.24212, saving model to .//best_model.h5\n",
      "Epoch 18/60\n",
      "55/55 [==============================] - 1s 16ms/step - loss: 126.8550 - num_output_loss: 126.1209 - cat_output_loss: 0.7341 - num_output_acc: 0.0325 - cat_output_acc: 0.5740 - val_loss: 130.3204 - val_num_output_loss: 129.6173 - val_cat_output_loss: 0.7031 - val_num_output_acc: 0.0357 - val_cat_output_acc: 0.5663\n",
      "\n",
      "Epoch 00018: val_loss did not improve from 108.24212\n",
      "Epoch 19/60\n",
      "55/55 [==============================] - 1s 21ms/step - loss: 119.4741 - num_output_loss: 118.7403 - cat_output_loss: 0.7337 - num_output_acc: 0.0331 - cat_output_acc: 0.5591 - val_loss: 102.4486 - val_num_output_loss: 101.7304 - val_cat_output_loss: 0.7182 - val_num_output_acc: 0.0204 - val_cat_output_acc: 0.5459\n",
      "\n",
      "Epoch 00019: val_loss improved from 108.24212 to 102.44863, saving model to .//best_model.h5\n",
      "Epoch 20/60\n",
      "55/55 [==============================] - 1s 17ms/step - loss: 119.6561 - num_output_loss: 118.9307 - cat_output_loss: 0.7255 - num_output_acc: 0.0325 - cat_output_acc: 0.5643 - val_loss: 115.9917 - val_num_output_loss: 115.2732 - val_cat_output_loss: 0.7185 - val_num_output_acc: 0.0357 - val_cat_output_acc: 0.5714\n",
      "\n",
      "Epoch 00020: val_loss did not improve from 102.44863\n",
      "Epoch 21/60\n",
      "55/55 [==============================] - 1s 17ms/step - loss: 123.9270 - num_output_loss: 123.1938 - cat_output_loss: 0.7333 - num_output_acc: 0.0474 - cat_output_acc: 0.5565 - val_loss: 125.7084 - val_num_output_loss: 124.9766 - val_cat_output_loss: 0.7318 - val_num_output_acc: 0.0408 - val_cat_output_acc: 0.6276\n",
      "\n",
      "Epoch 00021: val_loss did not improve from 102.44863\n",
      "Epoch 22/60\n",
      "55/55 [==============================] - 1s 16ms/step - loss: 112.7564 - num_output_loss: 112.0323 - cat_output_loss: 0.7241 - num_output_acc: 0.0461 - cat_output_acc: 0.5714 - val_loss: 150.8397 - val_num_output_loss: 150.0836 - val_cat_output_loss: 0.7561 - val_num_output_acc: 0.0204 - val_cat_output_acc: 0.5510\n",
      "\n",
      "Epoch 00022: val_loss did not improve from 102.44863\n",
      "Epoch 23/60\n",
      "55/55 [==============================] - 1s 18ms/step - loss: 113.8859 - num_output_loss: 113.1403 - cat_output_loss: 0.7456 - num_output_acc: 0.0448 - cat_output_acc: 0.5799 - val_loss: 101.4232 - val_num_output_loss: 100.6792 - val_cat_output_loss: 0.7440 - val_num_output_acc: 0.0357 - val_cat_output_acc: 0.5918\n",
      "\n",
      "Epoch 00023: val_loss improved from 102.44863 to 101.42322, saving model to .//best_model.h5\n",
      "Epoch 24/60\n",
      "55/55 [==============================] - 1s 18ms/step - loss: 125.1970 - num_output_loss: 124.4868 - cat_output_loss: 0.7102 - num_output_acc: 0.0416 - cat_output_acc: 0.5760 - val_loss: 90.0244 - val_num_output_loss: 89.3401 - val_cat_output_loss: 0.6843 - val_num_output_acc: 0.0459 - val_cat_output_acc: 0.6224\n",
      "\n",
      "Epoch 00024: val_loss improved from 101.42322 to 90.02444, saving model to .//best_model.h5\n",
      "Epoch 25/60\n",
      "55/55 [==============================] - 1s 16ms/step - loss: 126.0999 - num_output_loss: 125.3718 - cat_output_loss: 0.7281 - num_output_acc: 0.0487 - cat_output_acc: 0.5766 - val_loss: 105.3549 - val_num_output_loss: 104.6501 - val_cat_output_loss: 0.7048 - val_num_output_acc: 0.0408 - val_cat_output_acc: 0.5969\n",
      "\n",
      "Epoch 00025: val_loss did not improve from 90.02444\n",
      "Epoch 26/60\n",
      "55/55 [==============================] - 1s 18ms/step - loss: 113.1322 - num_output_loss: 112.4105 - cat_output_loss: 0.7217 - num_output_acc: 0.0409 - cat_output_acc: 0.5766 - val_loss: 156.0081 - val_num_output_loss: 155.3132 - val_cat_output_loss: 0.6949 - val_num_output_acc: 0.0510 - val_cat_output_acc: 0.5663\n",
      "\n",
      "Epoch 00026: val_loss did not improve from 90.02444\n",
      "Epoch 27/60\n",
      "55/55 [==============================] - 1s 18ms/step - loss: 123.0500 - num_output_loss: 122.3259 - cat_output_loss: 0.7241 - num_output_acc: 0.0299 - cat_output_acc: 0.6013 - val_loss: 121.6876 - val_num_output_loss: 120.9552 - val_cat_output_loss: 0.7324 - val_num_output_acc: 0.0204 - val_cat_output_acc: 0.5204\n",
      "\n",
      "Epoch 00027: val_loss did not improve from 90.02444\n",
      "Epoch 28/60\n",
      "55/55 [==============================] - 1s 16ms/step - loss: 108.3181 - num_output_loss: 107.5927 - cat_output_loss: 0.7254 - num_output_acc: 0.0513 - cat_output_acc: 0.5695 - val_loss: 118.8311 - val_num_output_loss: 118.1439 - val_cat_output_loss: 0.6872 - val_num_output_acc: 0.0408 - val_cat_output_acc: 0.5918\n",
      "\n",
      "Epoch 00028: val_loss did not improve from 90.02444\n",
      "Epoch 29/60\n",
      "55/55 [==============================] - 1s 17ms/step - loss: 125.5249 - num_output_loss: 124.8106 - cat_output_loss: 0.7142 - num_output_acc: 0.0325 - cat_output_acc: 0.5656 - val_loss: 104.9868 - val_num_output_loss: 104.2684 - val_cat_output_loss: 0.7184 - val_num_output_acc: 0.0459 - val_cat_output_acc: 0.5408\n",
      "\n",
      "Epoch 00029: val_loss did not improve from 90.02444\n",
      "Epoch 30/60\n",
      "55/55 [==============================] - 1s 16ms/step - loss: 123.4464 - num_output_loss: 122.7229 - cat_output_loss: 0.7235 - num_output_acc: 0.0377 - cat_output_acc: 0.5935 - val_loss: 104.3146 - val_num_output_loss: 103.5594 - val_cat_output_loss: 0.7552 - val_num_output_acc: 0.0357 - val_cat_output_acc: 0.5510\n",
      "\n",
      "Epoch 00030: val_loss did not improve from 90.02444\n",
      "Epoch 31/60\n",
      "55/55 [==============================] - 1s 17ms/step - loss: 118.3542 - num_output_loss: 117.6219 - cat_output_loss: 0.7323 - num_output_acc: 0.0390 - cat_output_acc: 0.5935 - val_loss: 126.7908 - val_num_output_loss: 126.0082 - val_cat_output_loss: 0.7826 - val_num_output_acc: 0.0357 - val_cat_output_acc: 0.5000\n"
     ]
    },
    {
     "name": "stdout",
     "output_type": "stream",
     "text": [
      "\n",
      "Epoch 00031: val_loss did not improve from 90.02444\n",
      "Epoch 32/60\n",
      "55/55 [==============================] - 1s 14ms/step - loss: 110.7963 - num_output_loss: 110.0807 - cat_output_loss: 0.7156 - num_output_acc: 0.0390 - cat_output_acc: 0.5851 - val_loss: 90.7624 - val_num_output_loss: 90.0436 - val_cat_output_loss: 0.7188 - val_num_output_acc: 0.0459 - val_cat_output_acc: 0.4592\n",
      "\n",
      "Epoch 00032: val_loss did not improve from 90.02444\n",
      "Epoch 33/60\n",
      "55/55 [==============================] - 1s 16ms/step - loss: 106.1335 - num_output_loss: 105.3862 - cat_output_loss: 0.7473 - num_output_acc: 0.0390 - cat_output_acc: 0.5708 - val_loss: 87.4529 - val_num_output_loss: 86.7421 - val_cat_output_loss: 0.7108 - val_num_output_acc: 0.0306 - val_cat_output_acc: 0.5357\n",
      "\n",
      "Epoch 00033: val_loss improved from 90.02444 to 87.45292, saving model to .//best_model.h5\n",
      "Epoch 34/60\n",
      "55/55 [==============================] - 1s 16ms/step - loss: 110.3242 - num_output_loss: 109.6061 - cat_output_loss: 0.7181 - num_output_acc: 0.0461 - cat_output_acc: 0.5630 - val_loss: 104.8022 - val_num_output_loss: 104.0894 - val_cat_output_loss: 0.7129 - val_num_output_acc: 0.0510 - val_cat_output_acc: 0.5663\n",
      "\n",
      "Epoch 00034: val_loss did not improve from 87.45292\n",
      "Epoch 35/60\n",
      "55/55 [==============================] - 1s 16ms/step - loss: 106.2862 - num_output_loss: 105.5717 - cat_output_loss: 0.7145 - num_output_acc: 0.0364 - cat_output_acc: 0.5831 - val_loss: 101.7130 - val_num_output_loss: 101.0105 - val_cat_output_loss: 0.7025 - val_num_output_acc: 0.0255 - val_cat_output_acc: 0.5969\n",
      "\n",
      "Epoch 00035: val_loss did not improve from 87.45292\n",
      "Epoch 36/60\n",
      "55/55 [==============================] - 1s 16ms/step - loss: 120.2984 - num_output_loss: 119.6027 - cat_output_loss: 0.6956 - num_output_acc: 0.0331 - cat_output_acc: 0.5903 - val_loss: 99.5744 - val_num_output_loss: 98.8971 - val_cat_output_loss: 0.6773 - val_num_output_acc: 0.0561 - val_cat_output_acc: 0.5969\n",
      "\n",
      "Epoch 00036: val_loss did not improve from 87.45292\n",
      "Epoch 37/60\n",
      "55/55 [==============================] - 1s 15ms/step - loss: 103.7995 - num_output_loss: 103.0729 - cat_output_loss: 0.7265 - num_output_acc: 0.0409 - cat_output_acc: 0.5636 - val_loss: 122.6369 - val_num_output_loss: 121.9153 - val_cat_output_loss: 0.7217 - val_num_output_acc: 0.0255 - val_cat_output_acc: 0.5408\n",
      "\n",
      "Epoch 00037: val_loss did not improve from 87.45292\n",
      "Epoch 38/60\n",
      "55/55 [==============================] - 1s 15ms/step - loss: 109.5382 - num_output_loss: 108.8317 - cat_output_loss: 0.7065 - num_output_acc: 0.0422 - cat_output_acc: 0.5994 - val_loss: 124.7486 - val_num_output_loss: 123.9707 - val_cat_output_loss: 0.7778 - val_num_output_acc: 0.0255 - val_cat_output_acc: 0.5000\n",
      "\n",
      "Epoch 00038: val_loss did not improve from 87.45292\n",
      "Epoch 39/60\n",
      "55/55 [==============================] - 1s 16ms/step - loss: 107.3894 - num_output_loss: 106.6859 - cat_output_loss: 0.7034 - num_output_acc: 0.0487 - cat_output_acc: 0.6032 - val_loss: 96.4282 - val_num_output_loss: 95.6900 - val_cat_output_loss: 0.7382 - val_num_output_acc: 0.0459 - val_cat_output_acc: 0.5510\n",
      "\n",
      "Epoch 00039: val_loss did not improve from 87.45292\n",
      "Epoch 40/60\n",
      "55/55 [==============================] - 1s 15ms/step - loss: 122.1240 - num_output_loss: 121.3907 - cat_output_loss: 0.7333 - num_output_acc: 0.0396 - cat_output_acc: 0.5578 - val_loss: 76.4087 - val_num_output_loss: 75.6592 - val_cat_output_loss: 0.7495 - val_num_output_acc: 0.0408 - val_cat_output_acc: 0.5714\n",
      "\n",
      "Epoch 00040: val_loss improved from 87.45292 to 76.40868, saving model to .//best_model.h5\n",
      "Epoch 41/60\n",
      "55/55 [==============================] - 1s 16ms/step - loss: 114.9947 - num_output_loss: 114.2611 - cat_output_loss: 0.7336 - num_output_acc: 0.0409 - cat_output_acc: 0.5591 - val_loss: 123.7660 - val_num_output_loss: 123.0621 - val_cat_output_loss: 0.7039 - val_num_output_acc: 0.0357 - val_cat_output_acc: 0.5306\n",
      "\n",
      "Epoch 00041: val_loss did not improve from 76.40868\n",
      "Epoch 42/60\n",
      "55/55 [==============================] - 1s 15ms/step - loss: 117.4706 - num_output_loss: 116.7569 - cat_output_loss: 0.7137 - num_output_acc: 0.0377 - cat_output_acc: 0.5968 - val_loss: 114.8309 - val_num_output_loss: 114.0977 - val_cat_output_loss: 0.7332 - val_num_output_acc: 0.0612 - val_cat_output_acc: 0.5357\n",
      "\n",
      "Epoch 00042: val_loss did not improve from 76.40868\n",
      "Epoch 43/60\n",
      "55/55 [==============================] - 1s 16ms/step - loss: 116.7613 - num_output_loss: 116.0422 - cat_output_loss: 0.7191 - num_output_acc: 0.0357 - cat_output_acc: 0.5773 - val_loss: 117.1686 - val_num_output_loss: 116.4522 - val_cat_output_loss: 0.7163 - val_num_output_acc: 0.0459 - val_cat_output_acc: 0.5510\n",
      "\n",
      "Epoch 00043: val_loss did not improve from 76.40868\n",
      "Epoch 44/60\n",
      "55/55 [==============================] - 1s 17ms/step - loss: 120.0040 - num_output_loss: 119.2852 - cat_output_loss: 0.7188 - num_output_acc: 0.0312 - cat_output_acc: 0.5942 - val_loss: 116.3025 - val_num_output_loss: 115.5852 - val_cat_output_loss: 0.7174 - val_num_output_acc: 0.0510 - val_cat_output_acc: 0.5612\n",
      "\n",
      "Epoch 00044: val_loss did not improve from 76.40868\n",
      "Epoch 45/60\n",
      "55/55 [==============================] - 1s 16ms/step - loss: 133.0112 - num_output_loss: 132.2924 - cat_output_loss: 0.7188 - num_output_acc: 0.0338 - cat_output_acc: 0.5916 - val_loss: 123.8344 - val_num_output_loss: 123.1289 - val_cat_output_loss: 0.7055 - val_num_output_acc: 0.0306 - val_cat_output_acc: 0.5969\n",
      "\n",
      "Epoch 00045: val_loss did not improve from 76.40868\n",
      "Epoch 46/60\n",
      "55/55 [==============================] - 1s 16ms/step - loss: 115.3221 - num_output_loss: 114.6118 - cat_output_loss: 0.7103 - num_output_acc: 0.0494 - cat_output_acc: 0.6104 - val_loss: 130.4997 - val_num_output_loss: 129.8058 - val_cat_output_loss: 0.6940 - val_num_output_acc: 0.0408 - val_cat_output_acc: 0.5765\n",
      "\n",
      "Epoch 00046: val_loss did not improve from 76.40868\n",
      "Epoch 47/60\n",
      "55/55 [==============================] - 1s 15ms/step - loss: 125.7151 - num_output_loss: 124.9978 - cat_output_loss: 0.7172 - num_output_acc: 0.0370 - cat_output_acc: 0.5818 - val_loss: 90.9081 - val_num_output_loss: 90.1829 - val_cat_output_loss: 0.7252 - val_num_output_acc: 0.0408 - val_cat_output_acc: 0.5918\n",
      "\n",
      "Epoch 00047: val_loss did not improve from 76.40868\n",
      "Epoch 48/60\n",
      "55/55 [==============================] - 1s 17ms/step - loss: 110.9541 - num_output_loss: 110.2469 - cat_output_loss: 0.7072 - num_output_acc: 0.0390 - cat_output_acc: 0.5760 - val_loss: 107.9800 - val_num_output_loss: 107.2601 - val_cat_output_loss: 0.7200 - val_num_output_acc: 0.0357 - val_cat_output_acc: 0.6071\n",
      "\n",
      "Epoch 00048: val_loss did not improve from 76.40868\n",
      "Epoch 49/60\n",
      "55/55 [==============================] - 1s 15ms/step - loss: 106.6860 - num_output_loss: 105.9496 - cat_output_loss: 0.7364 - num_output_acc: 0.0416 - cat_output_acc: 0.5675 - val_loss: 89.3645 - val_num_output_loss: 88.6423 - val_cat_output_loss: 0.7222 - val_num_output_acc: 0.0204 - val_cat_output_acc: 0.5408\n",
      "\n",
      "Epoch 00049: val_loss did not improve from 76.40868\n",
      "Epoch 50/60\n",
      "55/55 [==============================] - 1s 16ms/step - loss: 120.1328 - num_output_loss: 119.4073 - cat_output_loss: 0.7255 - num_output_acc: 0.0370 - cat_output_acc: 0.5740 - val_loss: 86.8522 - val_num_output_loss: 86.2070 - val_cat_output_loss: 0.6451 - val_num_output_acc: 0.0510 - val_cat_output_acc: 0.6939\n",
      "\n",
      "Epoch 00050: val_loss did not improve from 76.40868\n",
      "Epoch 51/60\n",
      "55/55 [==============================] - 1s 17ms/step - loss: 108.0716 - num_output_loss: 107.3600 - cat_output_loss: 0.7116 - num_output_acc: 0.0396 - cat_output_acc: 0.5844 - val_loss: 91.6534 - val_num_output_loss: 90.9551 - val_cat_output_loss: 0.6983 - val_num_output_acc: 0.0663 - val_cat_output_acc: 0.5459\n",
      "\n",
      "Epoch 00051: val_loss did not improve from 76.40868\n",
      "Epoch 52/60\n",
      "55/55 [==============================] - 1s 16ms/step - loss: 109.7481 - num_output_loss: 109.0181 - cat_output_loss: 0.7300 - num_output_acc: 0.0409 - cat_output_acc: 0.5701 - val_loss: 130.2727 - val_num_output_loss: 129.5906 - val_cat_output_loss: 0.6822 - val_num_output_acc: 0.0102 - val_cat_output_acc: 0.6173\n",
      "\n",
      "Epoch 00052: val_loss did not improve from 76.40868\n",
      "Epoch 53/60\n"
     ]
    },
    {
     "name": "stdout",
     "output_type": "stream",
     "text": [
      "55/55 [==============================] - 1s 16ms/step - loss: 114.2897 - num_output_loss: 113.5585 - cat_output_loss: 0.7312 - num_output_acc: 0.0396 - cat_output_acc: 0.5779 - val_loss: 111.0828 - val_num_output_loss: 110.3597 - val_cat_output_loss: 0.7231 - val_num_output_acc: 0.0408 - val_cat_output_acc: 0.5357\n",
      "\n",
      "Epoch 00053: val_loss did not improve from 76.40868\n",
      "Epoch 54/60\n",
      "55/55 [==============================] - 1s 15ms/step - loss: 113.7155 - num_output_loss: 112.9882 - cat_output_loss: 0.7273 - num_output_acc: 0.0442 - cat_output_acc: 0.5831 - val_loss: 99.3827 - val_num_output_loss: 98.6926 - val_cat_output_loss: 0.6901 - val_num_output_acc: 0.0459 - val_cat_output_acc: 0.5867\n",
      "\n",
      "Epoch 00054: val_loss did not improve from 76.40868\n",
      "Epoch 55/60\n",
      "55/55 [==============================] - 1s 16ms/step - loss: 114.9061 - num_output_loss: 114.1872 - cat_output_loss: 0.7188 - num_output_acc: 0.0377 - cat_output_acc: 0.5526 - val_loss: 132.0032 - val_num_output_loss: 131.2482 - val_cat_output_loss: 0.7550 - val_num_output_acc: 0.0408 - val_cat_output_acc: 0.5918\n",
      "\n",
      "Epoch 00055: val_loss did not improve from 76.40868\n",
      "Epoch 56/60\n",
      "55/55 [==============================] - 1s 16ms/step - loss: 114.7305 - num_output_loss: 113.9909 - cat_output_loss: 0.7396 - num_output_acc: 0.0344 - cat_output_acc: 0.5714 - val_loss: 95.0439 - val_num_output_loss: 94.2958 - val_cat_output_loss: 0.7481 - val_num_output_acc: 0.0357 - val_cat_output_acc: 0.5816\n",
      "\n",
      "Epoch 00056: val_loss did not improve from 76.40868\n",
      "Epoch 57/60\n",
      "55/55 [==============================] - 1s 16ms/step - loss: 101.0397 - num_output_loss: 100.3240 - cat_output_loss: 0.7157 - num_output_acc: 0.0455 - cat_output_acc: 0.5805 - val_loss: 112.2016 - val_num_output_loss: 111.5149 - val_cat_output_loss: 0.6867 - val_num_output_acc: 0.0408 - val_cat_output_acc: 0.6327\n",
      "\n",
      "Epoch 00057: val_loss did not improve from 76.40868\n",
      "Epoch 58/60\n",
      "55/55 [==============================] - 1s 15ms/step - loss: 126.9237 - num_output_loss: 126.1945 - cat_output_loss: 0.7292 - num_output_acc: 0.0377 - cat_output_acc: 0.5630 - val_loss: 159.2642 - val_num_output_loss: 158.5314 - val_cat_output_loss: 0.7328 - val_num_output_acc: 0.0255 - val_cat_output_acc: 0.5663\n",
      "\n",
      "Epoch 00058: val_loss did not improve from 76.40868\n",
      "Epoch 59/60\n",
      "55/55 [==============================] - 1s 16ms/step - loss: 111.6640 - num_output_loss: 110.9352 - cat_output_loss: 0.7287 - num_output_acc: 0.0448 - cat_output_acc: 0.5688 - val_loss: 88.4268 - val_num_output_loss: 87.7276 - val_cat_output_loss: 0.6991 - val_num_output_acc: 0.0306 - val_cat_output_acc: 0.5459\n",
      "\n",
      "Epoch 00059: val_loss did not improve from 76.40868\n",
      "Epoch 60/60\n",
      "55/55 [==============================] - 1s 16ms/step - loss: 112.5378 - num_output_loss: 111.8187 - cat_output_loss: 0.7191 - num_output_acc: 0.0351 - cat_output_acc: 0.5766 - val_loss: 96.5717 - val_num_output_loss: 95.8562 - val_cat_output_loss: 0.7155 - val_num_output_acc: 0.0459 - val_cat_output_acc: 0.5561\n",
      "\n",
      "Epoch 00060: val_loss did not improve from 76.40868\n"
     ]
    },
    {
     "ename": "NameError",
     "evalue": "name 'y_test' is not defined",
     "output_type": "error",
     "traceback": [
      "\u001b[0;31m---------------------------------------------------------------------------\u001b[0m",
      "\u001b[0;31mNameError\u001b[0m                                 Traceback (most recent call last)",
      "\u001b[0;32m<ipython-input-24-8296d3f02f5a>\u001b[0m in \u001b[0;36m<module>\u001b[0;34m()\u001b[0m\n\u001b[1;32m    112\u001b[0m \u001b[0;31m#model = keras.models.load_model('./best_model.h5')\u001b[0m\u001b[0;34m\u001b[0m\u001b[0;34m\u001b[0m\u001b[0m\n\u001b[1;32m    113\u001b[0m \u001b[0my_pred_dnn\u001b[0m \u001b[0;34m=\u001b[0m \u001b[0mmodel\u001b[0m\u001b[0;34m.\u001b[0m\u001b[0mpredict_on_batch\u001b[0m\u001b[0;34m(\u001b[0m\u001b[0mx_test\u001b[0m\u001b[0;34m[\u001b[0m\u001b[0;34m:\u001b[0m\u001b[0mprediction_samp\u001b[0m\u001b[0;34m,\u001b[0m\u001b[0;34m:\u001b[0m\u001b[0;34m]\u001b[0m\u001b[0;34m)\u001b[0m \u001b[0;31m# predict on a single batch\u001b[0m\u001b[0;34m\u001b[0m\u001b[0m\n\u001b[0;32m--> 114\u001b[0;31m \u001b[0my_true_dnn\u001b[0m \u001b[0;34m=\u001b[0m \u001b[0my_test\u001b[0m\u001b[0;34m[\u001b[0m\u001b[0;34m:\u001b[0m\u001b[0mprediction_samp\u001b[0m\u001b[0;34m]\u001b[0m\u001b[0;34m.\u001b[0m\u001b[0mreshape\u001b[0m\u001b[0;34m(\u001b[0m\u001b[0;34m-\u001b[0m\u001b[0;36m1\u001b[0m\u001b[0;34m,\u001b[0m\u001b[0;36m1\u001b[0m\u001b[0;34m)\u001b[0m\u001b[0;34m\u001b[0m\u001b[0m\n\u001b[0m",
      "\u001b[0;31mNameError\u001b[0m: name 'y_test' is not defined"
     ]
    }
   ],
   "source": [
    "#import argparse\n",
    "#ap = argparse.ArgumentParser()\n",
    "#ap.add_argument(\"-d\", \"--dataset\", required=True,\n",
    "#    help=\"path to input dataset (i.e., directory of images)\")\n",
    "#ap.add_argument(\"-m\", \"--model\", required=True,\n",
    "#    help=\"path to output model\")\n",
    "#ap.add_argument(\"-l\", \"--categorybin\", required=True,\n",
    "#    help=\"path to output category label binarizer\")\n",
    "#ap.add_argument(\"-c\", \"--colorbin\", required=True,\n",
    "#    help=\"path to output color label binarizer\")\n",
    "#ap.add_argument(\"-p\", \"--plot\", type=str, default=\"output\",\n",
    "#    help=\"base filename for generated plots\")\n",
    "#args = vars(ap.parse_args())\n",
    "\n",
    "import tensorflow as tf\n",
    "import keras\n",
    "from keras.models import Sequential, Model\n",
    "from keras.optimizers import Adam\n",
    "from keras.layers import Input, Dense, Dropout, Activation, LeakyReLU, BatchNormalization\n",
    "from keras.callbacks import EarlyStopping, ModelCheckpoint\n",
    "from sklearn.preprocessing import LabelBinarizer\n",
    "\n",
    "class KerasBatchGenerator(object):\n",
    "    def __init__(self,x,y_num,y_cat,batchsize,ndim,nsteps,skip_steps):\n",
    "        self.x=x\n",
    "        self.y_num=y_num\n",
    "        self.y_cat=y_cat\n",
    "        self.batchsize=batchsize\n",
    "        self.istart=0\n",
    "        self.nsteps=nsteps\n",
    "        self.skip_steps = skip_steps\n",
    "        self.ndim = ndim\n",
    "    def generate(self):\n",
    "        x = np.zeros((self.nsteps, self.ndim))            \n",
    "        y_num = np.zeros((self.nsteps, 1))\n",
    "        y_cat = np.zeros((self.nsteps, 3))\n",
    "        while True:\n",
    "            for i in range(self.batchsize):\n",
    "                x, y_num, y_cat = self.x[self.istart:self.istart+self.nsteps,:], \\\n",
    "                    self.y_num[self.istart:self.istart+self.nsteps], \\\n",
    "                    self.y_cat[self.istart:self.istart+self.nsteps,:]\n",
    "                self.istart += self.skip_steps             \n",
    "                yield x, {'num_output': y_num, 'cat_output': y_cat} # yield returns a set of x,y values for model.fit_generator to perform batch training\n",
    "        \n",
    "\n",
    "class branched_dnn(object):\n",
    "    def __init__(self,fpath):                      \n",
    "        self.file = fpath+'/best_model.h5'                          \n",
    "    @staticmethod\n",
    "    def build_model(fpath,ndim,nepochs=50,hdim=100,hlayers=20,dropoutrate=0.2,learning_rate=0.001):\n",
    "        inputShape = (ndim,) # does not include the mini-batch/batchsize samples axis\n",
    "        inputs = Input(shape=inputShape)\n",
    "        numericBranch  = branched_dnn(fpath).build_branch_model(inputs, \\\n",
    "                         finalAct='relu',name='num_output',nout=1,nin=ndim,hdim=hdim, \\\n",
    "                         hlayers=hlayers,dropoutRate=dropoutRate)\n",
    "        categoryBranch = branched_dnn(fpath).build_branch_model(inputs, \\\n",
    "                         finalAct='softmax',name='cat_output',nout=3,nin=ndim,hdim=hdim, \\\n",
    "                         hlayers=hlayers,dropoutRate=dropoutRate)\n",
    "        model = Model(inputs=inputs, outputs=[numericBranch, categoryBranch],name=\"branchednet\")\n",
    "        losses = {\"num_output\": \"mean_squared_error\", \"cat_output\": \"categorical_crossentropy\"}\n",
    "        lossWeights = {\"num_output\": 1.0, \"cat_output\": 1.0}\n",
    "        opt = Adam(lr=learning_rate, decay=learning_rate/nepochs) # with learning rate decay\n",
    "        model.compile(optimizer=opt, loss=losses, loss_weights = lossWeights, metrics=[\"accuracy\"])\n",
    "        # checkpointer = keras.callbacks.ModelCheckpoint(filepath=datapath + '/model-{epoch:02d}.hdf5', verbose=1)\n",
    "        checkpointer = [EarlyStopping(monitor='val_loss', patience=20), # patience: wait for at least 5 epochs before early stopping\n",
    "        ModelCheckpoint(filepath=branched_dnn(fpath).file, monitor='val_loss', save_best_only=True, verbose=1)]\n",
    "        # model.summary()\n",
    "        return model, checkpointer\n",
    "    def build_branch_model(self,x,finalAct=None,name=None,nout=None,nin=None,hdim=100,hlayers=20,dropoutRate=20):\n",
    "        '''\n",
    "        finalAct: 'softmax','sigmoid' for categorical, 'linear' or 'relu' for numerical\n",
    "        name: just name the branches as you wish, e.g., 'category_output', 'numeric_output'\n",
    "        '''\n",
    "        #model = Sequential()\n",
    "        x = Dense(hdim, input_dim=nin, kernel_initializer='glorot_normal')(x)\n",
    "        BatchNormalization()\n",
    "        x = Activation('relu')(x)\n",
    "        for _ in range(hlayers-1):\n",
    "            x = Dropout(dropoutRate)(x)\n",
    "            #model.add(Dense(hdim, kernel_initializer='glorot_normal', activation='relu')) \n",
    "            x = Dense(hdim, kernel_initializer='glorot_normal')(x) \n",
    "            BatchNormalization()\n",
    "            x = Activation('relu')(x)\n",
    "            #model.add(Dense(1,kernel_initializer='glorot_normal', activation='sigmoid')) # determine the probability of anomaly \n",
    "            #model.add(LeakyReLU(alpha=0.3)) # f(x) = 0.3*x, 0.3 is a small gradient\n",
    "        x = Dense(nout,kernel_initializer='glorot_normal')(x) # determine the number\n",
    "        BatchNormalization()\n",
    "        x = Activation(finalAct,name=name)(x)\n",
    "        return x\n",
    "    \n",
    "# Define model parameters\n",
    "fpath = './'\n",
    "batchsize = 100 # number of mini-batches per epoch\n",
    "nsteps = 28 # number of samples in each mini-batch\n",
    "ndim = x_train.shape[1]  # feature dimensions\n",
    "hdim = 100 # hidden layer dimensions\n",
    "hlayers= 20 # hidden layers\n",
    "last_epoch = 10 # set to 0 for new model training\n",
    "nepochs=50\n",
    "dropoutRate = 0.5\n",
    "learningRate=0.001\n",
    "prediction_samp = 10000\n",
    "ntrain = x_train.shape[0]\n",
    "nvalid = x_valid.shape[0]\n",
    "\n",
    "# initialize training and validation mini-batch data generator\n",
    "train_gen = KerasBatchGenerator(x_train,y_num_train,y_cat_train, \n",
    "                          batchsize, ndim, nsteps, skip_steps=nsteps)\n",
    "valid_gen = KerasBatchGenerator(x_valid,y_num_valid,y_cat_valid, \n",
    "                          batchsize, ndim, nsteps, skip_steps=nsteps)\n",
    "#test_gen  = KerasBatchGenerator(np.concatenate((x_test,y_test.reshape(-1,1)),axis=1), \n",
    "#                          10, ndim, 1000, skip_steps=nsteps)\n",
    "model, checkpointer  = branched_dnn(fpath).build_model(fpath,ndim,nepochs=nepochs,hdim=hdim,hlayers=hlayers,\n",
    "                                   dropoutrate=dropoutRate,learning_rate=learningRate)\n",
    "model.fit_generator(train_gen.generate(), ntrain//(batchsize*nsteps), epochs=last_epoch+nepochs,\n",
    "                validation_data = valid_gen.generate(), validation_steps=math.ceil(nvalid/(batchsize*nsteps)),\n",
    "                callbacks=checkpointer,shuffle=True,initial_epoch=last_epoch,verbose=1)\n",
    "#model = keras.models.load_model('./best_model.h5')\n",
    "y_pred_dnn = model.predict_on_batch(x_test[:prediction_samp,:]) # predict on a single batch\n",
    "#y_true_dnn = y_test[:prediction_samp].reshape(-1,1)"
   ]
  },
  {
   "cell_type": "code",
   "execution_count": 25,
   "metadata": {},
   "outputs": [],
   "source": [
    "y_pred_dnn = model.predict_on_batch(x_test[:prediction_samp,:]) # predict on a single batch\n",
    "y_cat_true_dnn = y_cat_test[:prediction_samp,:]\n",
    "y_num_true_dnn = y_num_test[:prediction_samp]"
   ]
  },
  {
   "cell_type": "code",
   "execution_count": 26,
   "metadata": {},
   "outputs": [
    {
     "name": "stdout",
     "output_type": "stream",
     "text": [
      "MSE = 112.01810512151795\n",
      "Categorical cross entropy = 0.7118783710401172 = average targeted probability of 49%!\n",
      "              precision    recall  f1-score   support\n",
      "\n",
      "     class 0       0.00      0.00      0.00        57\n",
      "     class 1       0.58      1.00      0.73      5770\n",
      "     class 2       0.00      0.00      0.00      4173\n",
      "\n",
      "   micro avg       0.58      0.58      0.58     10000\n",
      "   macro avg       0.19      0.33      0.24     10000\n",
      "weighted avg       0.33      0.58      0.42     10000\n",
      "\n"
     ]
    },
    {
     "name": "stderr",
     "output_type": "stream",
     "text": [
      "/usr/local/lib/python3.5/site-packages/sklearn/metrics/classification.py:1143: UndefinedMetricWarning: Precision and F-score are ill-defined and being set to 0.0 in labels with no predicted samples.\n",
      "  'precision', 'predicted', average, warn_for)\n"
     ]
    }
   ],
   "source": [
    "def cat_crossentropy(y_true,y_pred):\n",
    "    entropy=0\n",
    "    for i in range(y_true.shape[0]):\n",
    "        entropy -= math.log(y_pred[i,y_true[i]==1]) # y_true: 0,1,2 are also the column index of y_pred\n",
    "    return entropy/y_true.shape[0]\n",
    "print('MSE = %s'%str(mean_squared_error(y_pred_dnn[0],y_num_true_dnn)))\n",
    "cce = cat_crossentropy(y_cat_true_dnn,y_pred_dnn[1])\n",
    "print('Categorical cross entropy = %s = average targeted probability of %s%%!'%(str(cce),str(round(math.exp(-cce)*100))))\n",
    "print(classification_report(lb.inverse_transform(y_cat_true_dnn),lb.inverse_transform(y_pred_dnn[1]),target_names=['class 0','class 1','class 2']))\n"
   ]
  },
  {
   "cell_type": "markdown",
   "metadata": {},
   "source": [
    "Notice the MSE for n_reservation prediction is not lower than any other models. The multi-output training did not result in anything better. The multilinear regression and logistic regression outperforms SVM and 2-branched DNN with multi-output and multi-loss."
   ]
  },
  {
   "cell_type": "markdown",
   "metadata": {},
   "source": [
    "# Discussion \n",
    "I should probably tryp dropping the reservation_type that are nan, instead of defining them as 0 since not yet reserved cars doesn't mean anything."
   ]
  },
  {
   "cell_type": "markdown",
   "metadata": {},
   "source": [
    "# Reference\n",
    "* [Endless run of kernel SVM](https://datascience.stackexchange.com/questions/989/svm-using-scikit-learn-runs-endlessly-and-never-completes-execution)\n",
    "* [mathematical formulation of SVC](https://scikit-learn.org/stable/modules/svm.html)\n",
    "* [argparse](https://www.pyimagesearch.com/2018/03/12/python-argparse-command-line-arguments/)\n",
    "* [multi-output DNN](https://www.pyimagesearch.com/2018/06/04/keras-multiple-outputs-and-multiple-losses/)"
   ]
  },
  {
   "cell_type": "code",
   "execution_count": null,
   "metadata": {},
   "outputs": [],
   "source": []
  },
  {
   "cell_type": "code",
   "execution_count": null,
   "metadata": {},
   "outputs": [],
   "source": []
  }
 ],
 "metadata": {
  "kernelspec": {
   "display_name": "Python 3",
   "language": "python",
   "name": "python3"
  },
  "language_info": {
   "codemirror_mode": {
    "name": "ipython",
    "version": 3
   },
   "file_extension": ".py",
   "mimetype": "text/x-python",
   "name": "python",
   "nbconvert_exporter": "python",
   "pygments_lexer": "ipython3",
   "version": "3.5.0"
  }
 },
 "nbformat": 4,
 "nbformat_minor": 2
}
